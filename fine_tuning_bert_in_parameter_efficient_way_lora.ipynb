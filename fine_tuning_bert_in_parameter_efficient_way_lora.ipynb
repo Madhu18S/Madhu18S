{
  "cells": [
    {
      "cell_type": "markdown",
      "metadata": {
        "id": "view-in-github",
        "colab_type": "text"
      },
      "source": [
        "<a href=\"https://colab.research.google.com/github/Madhu18S/Madhu18S/blob/main/fine_tuning_bert_in_parameter_efficient_way_lora.ipynb\" target=\"_parent\"><img src=\"https://colab.research.google.com/assets/colab-badge.svg\" alt=\"Open In Colab\"/></a>"
      ]
    },
    {
      "cell_type": "markdown",
      "id": "86ce466a",
      "metadata": {
        "_cell_guid": "b1076dfc-b9ad-4769-8c92-a6c4dae69d19",
        "_uuid": "8f2839f25d086af736a60e9eeb907d3b93b6e0e5",
        "papermill": {
          "duration": 0.010926,
          "end_time": "2024-02-13T06:40:59.176951",
          "exception": false,
          "start_time": "2024-02-13T06:40:59.166025",
          "status": "completed"
        },
        "tags": [],
        "id": "86ce466a"
      },
      "source": [
        "# Fine-tuning a Transformer based Model\n",
        "\n",
        "Language modeling is a common method of pretraining on unlabeled text (self supervised learning). Most of the language models learned by iteratively predicting next word in a sequence auto regressively across enormous data sets of text like wikepedia. This can be left to right, right to left or bi-directional. The current state-of-the-art models are based on transformer based architectures such as ChatGPT, LLama, BERT etc. BERT is one of the popular transformer based models that is widely used for performing many downstream NLP tasks. BERT reformulates the language modeling pretrained task of iteratively predicting the next word in sequence to instead incorporate bidirectional context and predict mask of intermediate tokens of the sequence and predict the mask token. BERT presented a new self supervised learning task for pretaining transformers inorder to fine tune them for different tasks. They major difference between BERT and prior methods of pretraining transformer models is using the bidirectional context of language modeling. Most of the models either move left to right or right to left to predict next word in sequence, where BERT tries to learn intermediate tokens (by MASK), making the name Bidirectional Encoder.\n",
        "\n",
        "Ref: <br>\n",
        "\n",
        "1) http://jalammar.github.io/illustrated-bert/ <br>\n",
        "2) https://mccormickml.com/2019/07/22/BERT-fine-tuning/ <br>\n",
        "\n",
        "BERT uses Masked language model and also use \"Next sentence prediction\" task. BERT uses 3 embeddings to compute the input representations. They are token embeddings, segment embeddings and position embeddings.BERT Transformer will preserve the length of the (dimention of the) input. The final output will take this vector and pass these to seperate tasks (classification, in this case). BERT consists of stacked encoder layers. Just like the input of encoder of the transformer model, BERT model takes the sequence of numeric representation of the tokens as input. For classification tasks, we must prepend the special [CLS] token to the beginning of every sentence. Encoder block of transformer outputs a vector with same length as of input. First position of the vector, corresponding to the [CLS] token, can now be used as the input for a classifier. Models pre-trained on larger data may give good performance for specific tasks when we directly use them. Finetuning is a widely used technique for using a pretrained model for performing a specific task. Finetuning often involves the change of all/many of the model parameters, which may not be inefficient for usecases with low hardware resources.\n",
        "\n",
        "In this notebook, we will finetune a BERT based model using a parameter efficient finetuning method called LoRA and compare its performance with normal finetuning.\n",
        "\n",
        "# LoRA\n",
        "\n",
        "Ref : https://arxiv.org/pdf/2106.09685.pdf\n",
        "\n",
        "LoRA is one of the most widely used parameter efficient finetuning method. Low-Rank Adaptation, or LoRA, which freezes the pre-trained model weights and injects trainable rank decomposition matrices into each layer of the Transformer architecture, greatly reducing the number of trainable parameters for downstream tasks. LoRA performs on-par or better than finetuning in model quality Despite having fewer trainable parameters, a higher training throughput, and, unlike adapters,no additional inference latency.\n",
        "\n",
        "LoRA, which freezes the pre-trained model weights and injects trainable rank decomposition matrices into each layer of the Transformer architecture, greatly reducing the number of trainable parameters for downstream task.\n",
        "\n",
        "![](attachment:023ea347-a999-4105-99d1-eabfa97c9f11.png)\n",
        "\n",
        "Figure 1 illustrates how LoRA works for a parameter matrix $W$ of $ d * d $. There exist works that shows that the learned over-parametrized models reside on a low intrinsic dimension.The authors of the LoRA hypothesize that the change in weights during model adaptation also has a low “intrinsic rank”. LoRA allows us to train some dense layers in a neural network indirectly by optimizing rank decomposition matrices of the dense layers’ change during adaptation instead, while keeping the pre-trained weights froze.\n",
        "\n",
        "\n",
        "#### Code Reference\n",
        "\n",
        "https://lightning.ai/lightning-ai/studios/code-lora-from-scratch?utm_source=tldrai"
      ]
    },
    {
      "cell_type": "markdown",
      "source": [
        "##NOTE: Make sure to change runtime to GPU before running the notebook"
      ],
      "metadata": {
        "id": "kC7OAYSXs9d8"
      },
      "id": "kC7OAYSXs9d8"
    },
    {
      "cell_type": "code",
      "execution_count": null,
      "id": "166bebee",
      "metadata": {
        "execution": {
          "iopub.execute_input": "2024-02-13T06:40:59.199339Z",
          "iopub.status.busy": "2024-02-13T06:40:59.198946Z",
          "iopub.status.idle": "2024-02-13T06:41:06.188286Z",
          "shell.execute_reply": "2024-02-13T06:41:06.187452Z"
        },
        "papermill": {
          "duration": 7.00329,
          "end_time": "2024-02-13T06:41:06.190647",
          "exception": false,
          "start_time": "2024-02-13T06:40:59.187357",
          "status": "completed"
        },
        "tags": [],
        "id": "166bebee"
      },
      "outputs": [],
      "source": [
        "import random\n",
        "import time\n",
        "import datetime\n",
        "import gc\n",
        "import random\n",
        "import numpy as np\n",
        "import pandas as pd\n",
        "import torch\n",
        "import torch.nn as nn\n",
        "from torch.utils.data import TensorDataset, DataLoader, RandomSampler, SequentialSampler,random_split\n",
        "from sklearn.model_selection import train_test_split\n",
        "from sklearn.metrics import classification_report\n",
        "from transformers import AutoModelForSequenceClassification\n",
        "from transformers import BertForSequenceClassification, BertConfig,BertTokenizer,get_linear_schedule_with_warmup,AutoTokenizer"
      ]
    },
    {
      "cell_type": "code",
      "execution_count": null,
      "id": "aee52af8",
      "metadata": {
        "execution": {
          "iopub.execute_input": "2024-02-13T06:41:06.215038Z",
          "iopub.status.busy": "2024-02-13T06:41:06.214599Z",
          "iopub.status.idle": "2024-02-13T06:41:06.271955Z",
          "shell.execute_reply": "2024-02-13T06:41:06.271003Z"
        },
        "papermill": {
          "duration": 0.071328,
          "end_time": "2024-02-13T06:41:06.273934",
          "exception": false,
          "start_time": "2024-02-13T06:41:06.202606",
          "status": "completed"
        },
        "tags": [],
        "colab": {
          "base_uri": "https://localhost:8080/"
        },
        "id": "aee52af8",
        "outputId": "73aea971-b983-4b31-e753-9145d1aac044"
      },
      "outputs": [
        {
          "output_type": "execute_result",
          "data": {
            "text/plain": [
              "device(type='cuda', index=0)"
            ]
          },
          "metadata": {},
          "execution_count": 4
        }
      ],
      "source": [
        "device = torch.device(\"cuda:0\" if torch.cuda.is_available() else \"cpu\")\n",
        "device"
      ]
    },
    {
      "cell_type": "markdown",
      "id": "dcee0695",
      "metadata": {
        "papermill": {
          "duration": 0.011022,
          "end_time": "2024-02-13T06:41:06.296303",
          "exception": false,
          "start_time": "2024-02-13T06:41:06.285281",
          "status": "completed"
        },
        "tags": [],
        "id": "dcee0695"
      },
      "source": [
        "# Problem statement\n",
        "\n",
        "The aim is to develop a machine learning algorithm to predict whether a tweet is about a real disaster or not"
      ]
    },
    {
      "cell_type": "markdown",
      "id": "308a9d4a",
      "metadata": {
        "papermill": {
          "duration": 0.011811,
          "end_time": "2024-02-13T06:41:06.319607",
          "exception": false,
          "start_time": "2024-02-13T06:41:06.307796",
          "status": "completed"
        },
        "tags": [],
        "id": "308a9d4a"
      },
      "source": [
        "## Data\n",
        "\n",
        "Ref : https://www.kaggle.com/competitions/nlp-getting-started"
      ]
    },
    {
      "cell_type": "code",
      "source": [
        "!wget https://raw.githubusercontent.com/Tensorflow-Ranger/Workshop-on-fine-tuning-BERT/refs/heads/main/train.csv -O train.csv\n",
        "!wget https://raw.githubusercontent.com/Tensorflow-Ranger/Workshop-on-fine-tuning-BERT/refs/heads/main/test.csv -O test.csv"
      ],
      "metadata": {
        "colab": {
          "base_uri": "https://localhost:8080/"
        },
        "id": "8avVgcT5aTxX",
        "outputId": "1d8b955f-56f1-4426-f2e4-b00b65d35b52"
      },
      "id": "8avVgcT5aTxX",
      "execution_count": null,
      "outputs": [
        {
          "output_type": "stream",
          "name": "stdout",
          "text": [
            "--2025-08-20 07:08:54--  https://raw.githubusercontent.com/Tensorflow-Ranger/Workshop-on-fine-tuning-BERT/refs/heads/main/train.csv\n",
            "Resolving raw.githubusercontent.com (raw.githubusercontent.com)... 185.199.110.133, 185.199.108.133, 185.199.109.133, ...\n",
            "Connecting to raw.githubusercontent.com (raw.githubusercontent.com)|185.199.110.133|:443... connected.\n",
            "HTTP request sent, awaiting response... 200 OK\n",
            "Length: 987712 (965K) [text/plain]\n",
            "Saving to: ‘train.csv’\n",
            "\n",
            "\rtrain.csv             0%[                    ]       0  --.-KB/s               \rtrain.csv           100%[===================>] 964.56K  --.-KB/s    in 0.03s   \n",
            "\n",
            "2025-08-20 07:08:54 (30.0 MB/s) - ‘train.csv’ saved [987712/987712]\n",
            "\n",
            "--2025-08-20 07:08:54--  https://raw.githubusercontent.com/Tensorflow-Ranger/Workshop-on-fine-tuning-BERT/refs/heads/main/test.csv\n",
            "Resolving raw.githubusercontent.com (raw.githubusercontent.com)... 185.199.111.133, 185.199.108.133, 185.199.110.133, ...\n",
            "Connecting to raw.githubusercontent.com (raw.githubusercontent.com)|185.199.111.133|:443... connected.\n",
            "HTTP request sent, awaiting response... 200 OK\n",
            "Length: 420783 (411K) [text/plain]\n",
            "Saving to: ‘test.csv’\n",
            "\n",
            "test.csv            100%[===================>] 410.92K  --.-KB/s    in 0.03s   \n",
            "\n",
            "2025-08-20 07:08:54 (15.6 MB/s) - ‘test.csv’ saved [420783/420783]\n",
            "\n"
          ]
        }
      ]
    },
    {
      "cell_type": "code",
      "execution_count": null,
      "id": "5637d5f1",
      "metadata": {
        "execution": {
          "iopub.execute_input": "2024-02-13T06:41:06.344503Z",
          "iopub.status.busy": "2024-02-13T06:41:06.344166Z",
          "iopub.status.idle": "2024-02-13T06:41:06.404800Z",
          "shell.execute_reply": "2024-02-13T06:41:06.403876Z"
        },
        "papermill": {
          "duration": 0.075572,
          "end_time": "2024-02-13T06:41:06.406984",
          "exception": false,
          "start_time": "2024-02-13T06:41:06.331412",
          "status": "completed"
        },
        "tags": [],
        "colab": {
          "base_uri": "https://localhost:8080/",
          "height": 206
        },
        "id": "5637d5f1",
        "outputId": "8fb0887d-e177-41a2-a3c3-b62a95659f63"
      },
      "outputs": [
        {
          "output_type": "execute_result",
          "data": {
            "text/plain": [
              "   id keyword location                                               text  \\\n",
              "0   1     NaN      NaN  Our Deeds are the Reason of this #earthquake M...   \n",
              "1   4     NaN      NaN             Forest fire near La Ronge Sask. Canada   \n",
              "2   5     NaN      NaN  All residents asked to 'shelter in place' are ...   \n",
              "3   6     NaN      NaN  13,000 people receive #wildfires evacuation or...   \n",
              "4   7     NaN      NaN  Just got sent this photo from Ruby #Alaska as ...   \n",
              "\n",
              "   target  \n",
              "0       1  \n",
              "1       1  \n",
              "2       1  \n",
              "3       1  \n",
              "4       1  "
            ],
            "text/html": [
              "\n",
              "  <div id=\"df-3185482d-f399-4490-ac62-e69061b1c2fd\" class=\"colab-df-container\">\n",
              "    <div>\n",
              "<style scoped>\n",
              "    .dataframe tbody tr th:only-of-type {\n",
              "        vertical-align: middle;\n",
              "    }\n",
              "\n",
              "    .dataframe tbody tr th {\n",
              "        vertical-align: top;\n",
              "    }\n",
              "\n",
              "    .dataframe thead th {\n",
              "        text-align: right;\n",
              "    }\n",
              "</style>\n",
              "<table border=\"1\" class=\"dataframe\">\n",
              "  <thead>\n",
              "    <tr style=\"text-align: right;\">\n",
              "      <th></th>\n",
              "      <th>id</th>\n",
              "      <th>keyword</th>\n",
              "      <th>location</th>\n",
              "      <th>text</th>\n",
              "      <th>target</th>\n",
              "    </tr>\n",
              "  </thead>\n",
              "  <tbody>\n",
              "    <tr>\n",
              "      <th>0</th>\n",
              "      <td>1</td>\n",
              "      <td>NaN</td>\n",
              "      <td>NaN</td>\n",
              "      <td>Our Deeds are the Reason of this #earthquake M...</td>\n",
              "      <td>1</td>\n",
              "    </tr>\n",
              "    <tr>\n",
              "      <th>1</th>\n",
              "      <td>4</td>\n",
              "      <td>NaN</td>\n",
              "      <td>NaN</td>\n",
              "      <td>Forest fire near La Ronge Sask. Canada</td>\n",
              "      <td>1</td>\n",
              "    </tr>\n",
              "    <tr>\n",
              "      <th>2</th>\n",
              "      <td>5</td>\n",
              "      <td>NaN</td>\n",
              "      <td>NaN</td>\n",
              "      <td>All residents asked to 'shelter in place' are ...</td>\n",
              "      <td>1</td>\n",
              "    </tr>\n",
              "    <tr>\n",
              "      <th>3</th>\n",
              "      <td>6</td>\n",
              "      <td>NaN</td>\n",
              "      <td>NaN</td>\n",
              "      <td>13,000 people receive #wildfires evacuation or...</td>\n",
              "      <td>1</td>\n",
              "    </tr>\n",
              "    <tr>\n",
              "      <th>4</th>\n",
              "      <td>7</td>\n",
              "      <td>NaN</td>\n",
              "      <td>NaN</td>\n",
              "      <td>Just got sent this photo from Ruby #Alaska as ...</td>\n",
              "      <td>1</td>\n",
              "    </tr>\n",
              "  </tbody>\n",
              "</table>\n",
              "</div>\n",
              "    <div class=\"colab-df-buttons\">\n",
              "\n",
              "  <div class=\"colab-df-container\">\n",
              "    <button class=\"colab-df-convert\" onclick=\"convertToInteractive('df-3185482d-f399-4490-ac62-e69061b1c2fd')\"\n",
              "            title=\"Convert this dataframe to an interactive table.\"\n",
              "            style=\"display:none;\">\n",
              "\n",
              "  <svg xmlns=\"http://www.w3.org/2000/svg\" height=\"24px\" viewBox=\"0 -960 960 960\">\n",
              "    <path d=\"M120-120v-720h720v720H120Zm60-500h600v-160H180v160Zm220 220h160v-160H400v160Zm0 220h160v-160H400v160ZM180-400h160v-160H180v160Zm440 0h160v-160H620v160ZM180-180h160v-160H180v160Zm440 0h160v-160H620v160Z\"/>\n",
              "  </svg>\n",
              "    </button>\n",
              "\n",
              "  <style>\n",
              "    .colab-df-container {\n",
              "      display:flex;\n",
              "      gap: 12px;\n",
              "    }\n",
              "\n",
              "    .colab-df-convert {\n",
              "      background-color: #E8F0FE;\n",
              "      border: none;\n",
              "      border-radius: 50%;\n",
              "      cursor: pointer;\n",
              "      display: none;\n",
              "      fill: #1967D2;\n",
              "      height: 32px;\n",
              "      padding: 0 0 0 0;\n",
              "      width: 32px;\n",
              "    }\n",
              "\n",
              "    .colab-df-convert:hover {\n",
              "      background-color: #E2EBFA;\n",
              "      box-shadow: 0px 1px 2px rgba(60, 64, 67, 0.3), 0px 1px 3px 1px rgba(60, 64, 67, 0.15);\n",
              "      fill: #174EA6;\n",
              "    }\n",
              "\n",
              "    .colab-df-buttons div {\n",
              "      margin-bottom: 4px;\n",
              "    }\n",
              "\n",
              "    [theme=dark] .colab-df-convert {\n",
              "      background-color: #3B4455;\n",
              "      fill: #D2E3FC;\n",
              "    }\n",
              "\n",
              "    [theme=dark] .colab-df-convert:hover {\n",
              "      background-color: #434B5C;\n",
              "      box-shadow: 0px 1px 3px 1px rgba(0, 0, 0, 0.15);\n",
              "      filter: drop-shadow(0px 1px 2px rgba(0, 0, 0, 0.3));\n",
              "      fill: #FFFFFF;\n",
              "    }\n",
              "  </style>\n",
              "\n",
              "    <script>\n",
              "      const buttonEl =\n",
              "        document.querySelector('#df-3185482d-f399-4490-ac62-e69061b1c2fd button.colab-df-convert');\n",
              "      buttonEl.style.display =\n",
              "        google.colab.kernel.accessAllowed ? 'block' : 'none';\n",
              "\n",
              "      async function convertToInteractive(key) {\n",
              "        const element = document.querySelector('#df-3185482d-f399-4490-ac62-e69061b1c2fd');\n",
              "        const dataTable =\n",
              "          await google.colab.kernel.invokeFunction('convertToInteractive',\n",
              "                                                    [key], {});\n",
              "        if (!dataTable) return;\n",
              "\n",
              "        const docLinkHtml = 'Like what you see? Visit the ' +\n",
              "          '<a target=\"_blank\" href=https://colab.research.google.com/notebooks/data_table.ipynb>data table notebook</a>'\n",
              "          + ' to learn more about interactive tables.';\n",
              "        element.innerHTML = '';\n",
              "        dataTable['output_type'] = 'display_data';\n",
              "        await google.colab.output.renderOutput(dataTable, element);\n",
              "        const docLink = document.createElement('div');\n",
              "        docLink.innerHTML = docLinkHtml;\n",
              "        element.appendChild(docLink);\n",
              "      }\n",
              "    </script>\n",
              "  </div>\n",
              "\n",
              "\n",
              "    <div id=\"df-5fe0fe44-09ad-40e1-adf8-f79a5bbd9a7c\">\n",
              "      <button class=\"colab-df-quickchart\" onclick=\"quickchart('df-5fe0fe44-09ad-40e1-adf8-f79a5bbd9a7c')\"\n",
              "                title=\"Suggest charts\"\n",
              "                style=\"display:none;\">\n",
              "\n",
              "<svg xmlns=\"http://www.w3.org/2000/svg\" height=\"24px\"viewBox=\"0 0 24 24\"\n",
              "     width=\"24px\">\n",
              "    <g>\n",
              "        <path d=\"M19 3H5c-1.1 0-2 .9-2 2v14c0 1.1.9 2 2 2h14c1.1 0 2-.9 2-2V5c0-1.1-.9-2-2-2zM9 17H7v-7h2v7zm4 0h-2V7h2v10zm4 0h-2v-4h2v4z\"/>\n",
              "    </g>\n",
              "</svg>\n",
              "      </button>\n",
              "\n",
              "<style>\n",
              "  .colab-df-quickchart {\n",
              "      --bg-color: #E8F0FE;\n",
              "      --fill-color: #1967D2;\n",
              "      --hover-bg-color: #E2EBFA;\n",
              "      --hover-fill-color: #174EA6;\n",
              "      --disabled-fill-color: #AAA;\n",
              "      --disabled-bg-color: #DDD;\n",
              "  }\n",
              "\n",
              "  [theme=dark] .colab-df-quickchart {\n",
              "      --bg-color: #3B4455;\n",
              "      --fill-color: #D2E3FC;\n",
              "      --hover-bg-color: #434B5C;\n",
              "      --hover-fill-color: #FFFFFF;\n",
              "      --disabled-bg-color: #3B4455;\n",
              "      --disabled-fill-color: #666;\n",
              "  }\n",
              "\n",
              "  .colab-df-quickchart {\n",
              "    background-color: var(--bg-color);\n",
              "    border: none;\n",
              "    border-radius: 50%;\n",
              "    cursor: pointer;\n",
              "    display: none;\n",
              "    fill: var(--fill-color);\n",
              "    height: 32px;\n",
              "    padding: 0;\n",
              "    width: 32px;\n",
              "  }\n",
              "\n",
              "  .colab-df-quickchart:hover {\n",
              "    background-color: var(--hover-bg-color);\n",
              "    box-shadow: 0 1px 2px rgba(60, 64, 67, 0.3), 0 1px 3px 1px rgba(60, 64, 67, 0.15);\n",
              "    fill: var(--button-hover-fill-color);\n",
              "  }\n",
              "\n",
              "  .colab-df-quickchart-complete:disabled,\n",
              "  .colab-df-quickchart-complete:disabled:hover {\n",
              "    background-color: var(--disabled-bg-color);\n",
              "    fill: var(--disabled-fill-color);\n",
              "    box-shadow: none;\n",
              "  }\n",
              "\n",
              "  .colab-df-spinner {\n",
              "    border: 2px solid var(--fill-color);\n",
              "    border-color: transparent;\n",
              "    border-bottom-color: var(--fill-color);\n",
              "    animation:\n",
              "      spin 1s steps(1) infinite;\n",
              "  }\n",
              "\n",
              "  @keyframes spin {\n",
              "    0% {\n",
              "      border-color: transparent;\n",
              "      border-bottom-color: var(--fill-color);\n",
              "      border-left-color: var(--fill-color);\n",
              "    }\n",
              "    20% {\n",
              "      border-color: transparent;\n",
              "      border-left-color: var(--fill-color);\n",
              "      border-top-color: var(--fill-color);\n",
              "    }\n",
              "    30% {\n",
              "      border-color: transparent;\n",
              "      border-left-color: var(--fill-color);\n",
              "      border-top-color: var(--fill-color);\n",
              "      border-right-color: var(--fill-color);\n",
              "    }\n",
              "    40% {\n",
              "      border-color: transparent;\n",
              "      border-right-color: var(--fill-color);\n",
              "      border-top-color: var(--fill-color);\n",
              "    }\n",
              "    60% {\n",
              "      border-color: transparent;\n",
              "      border-right-color: var(--fill-color);\n",
              "    }\n",
              "    80% {\n",
              "      border-color: transparent;\n",
              "      border-right-color: var(--fill-color);\n",
              "      border-bottom-color: var(--fill-color);\n",
              "    }\n",
              "    90% {\n",
              "      border-color: transparent;\n",
              "      border-bottom-color: var(--fill-color);\n",
              "    }\n",
              "  }\n",
              "</style>\n",
              "\n",
              "      <script>\n",
              "        async function quickchart(key) {\n",
              "          const quickchartButtonEl =\n",
              "            document.querySelector('#' + key + ' button');\n",
              "          quickchartButtonEl.disabled = true;  // To prevent multiple clicks.\n",
              "          quickchartButtonEl.classList.add('colab-df-spinner');\n",
              "          try {\n",
              "            const charts = await google.colab.kernel.invokeFunction(\n",
              "                'suggestCharts', [key], {});\n",
              "          } catch (error) {\n",
              "            console.error('Error during call to suggestCharts:', error);\n",
              "          }\n",
              "          quickchartButtonEl.classList.remove('colab-df-spinner');\n",
              "          quickchartButtonEl.classList.add('colab-df-quickchart-complete');\n",
              "        }\n",
              "        (() => {\n",
              "          let quickchartButtonEl =\n",
              "            document.querySelector('#df-5fe0fe44-09ad-40e1-adf8-f79a5bbd9a7c button');\n",
              "          quickchartButtonEl.style.display =\n",
              "            google.colab.kernel.accessAllowed ? 'block' : 'none';\n",
              "        })();\n",
              "      </script>\n",
              "    </div>\n",
              "\n",
              "    </div>\n",
              "  </div>\n"
            ],
            "application/vnd.google.colaboratory.intrinsic+json": {
              "type": "dataframe",
              "variable_name": "df",
              "summary": "{\n  \"name\": \"df\",\n  \"rows\": 7613,\n  \"fields\": [\n    {\n      \"column\": \"id\",\n      \"properties\": {\n        \"dtype\": \"number\",\n        \"std\": 3137,\n        \"min\": 1,\n        \"max\": 10873,\n        \"num_unique_values\": 7613,\n        \"samples\": [\n          3796,\n          3185,\n          7769\n        ],\n        \"semantic_type\": \"\",\n        \"description\": \"\"\n      }\n    },\n    {\n      \"column\": \"keyword\",\n      \"properties\": {\n        \"dtype\": \"category\",\n        \"num_unique_values\": 221,\n        \"samples\": [\n          \"injury\",\n          \"nuclear%20reactor\",\n          \"engulfed\"\n        ],\n        \"semantic_type\": \"\",\n        \"description\": \"\"\n      }\n    },\n    {\n      \"column\": \"location\",\n      \"properties\": {\n        \"dtype\": \"category\",\n        \"num_unique_values\": 3341,\n        \"samples\": [\n          \"Oklahoma\",\n          \"Starling City\",\n          \"Trinidad and Tobago\"\n        ],\n        \"semantic_type\": \"\",\n        \"description\": \"\"\n      }\n    },\n    {\n      \"column\": \"text\",\n      \"properties\": {\n        \"dtype\": \"string\",\n        \"num_unique_values\": 7503,\n        \"samples\": [\n          \"Three Homes Demolished in Unrecognized Arab Village - International Middle East Media Center http://t.co/ik8m4Yi9T4\",\n          \"Reid Lake fire prompts campground evacuation order http://t.co/jBODKM6rBU\",\n          \"FAAN orders evacuation of abandoned aircraft at MMA http://t.co/dEvYbnVXGQ via @todayng\"\n        ],\n        \"semantic_type\": \"\",\n        \"description\": \"\"\n      }\n    },\n    {\n      \"column\": \"target\",\n      \"properties\": {\n        \"dtype\": \"number\",\n        \"std\": 0,\n        \"min\": 0,\n        \"max\": 1,\n        \"num_unique_values\": 2,\n        \"samples\": [\n          0,\n          1\n        ],\n        \"semantic_type\": \"\",\n        \"description\": \"\"\n      }\n    }\n  ]\n}"
            }
          },
          "metadata": {},
          "execution_count": 6
        }
      ],
      "source": [
        "df = pd.read_csv(\"train.csv\")\n",
        "df.head()"
      ]
    },
    {
      "cell_type": "code",
      "execution_count": null,
      "id": "7e569bc0",
      "metadata": {
        "execution": {
          "iopub.execute_input": "2024-02-13T06:41:06.431645Z",
          "iopub.status.busy": "2024-02-13T06:41:06.431322Z",
          "iopub.status.idle": "2024-02-13T06:41:06.435553Z",
          "shell.execute_reply": "2024-02-13T06:41:06.434717Z"
        },
        "papermill": {
          "duration": 0.018276,
          "end_time": "2024-02-13T06:41:06.437354",
          "exception": false,
          "start_time": "2024-02-13T06:41:06.419078",
          "status": "completed"
        },
        "tags": [],
        "id": "7e569bc0"
      },
      "outputs": [],
      "source": [
        "tweets = df.text.values\n",
        "labels = df.target.values"
      ]
    },
    {
      "cell_type": "code",
      "source": [
        "from IPython.display import Markdown\n",
        "import random\n",
        "\n",
        "def show_random_tweet(df):\n",
        "    row = df.sample(1).iloc[0]\n",
        "    label = \"Disaster\" if row[\"target\"] == 1 else \"Non-Disaster\"\n",
        "    display(Markdown(f\"**Tweet:** {row['text']} \\n\\n**Label:** {label}\"))\n",
        "\n",
        "show_random_tweet(df)"
      ],
      "metadata": {
        "colab": {
          "base_uri": "https://localhost:8080/",
          "height": 70
        },
        "id": "Lpe4TMT2XDme",
        "outputId": "2f5caf66-2895-47a4-a1dd-b04ee9447754"
      },
      "id": "Lpe4TMT2XDme",
      "execution_count": null,
      "outputs": [
        {
          "output_type": "display_data",
          "data": {
            "text/plain": [
              "<IPython.core.display.Markdown object>"
            ],
            "text/markdown": "**Tweet:** 70 Years After Atomic Bombs Japan Still Struggles With War Past: The anniversary of the devastation wrought b... http://t.co/1erd2FPryP \n\n**Label:** 🚨 Disaster"
          },
          "metadata": {}
        }
      ]
    },
    {
      "cell_type": "code",
      "source": [
        "import matplotlib.pyplot as plt\n",
        "import seaborn as sns\n",
        "\n",
        "sns.countplot(x=\"target\", data=df)\n",
        "plt.title(\"Distribution of Disaster vs Non-Disaster Tweets\")\n",
        "plt.xlabel(\"Target (0 = Non-disaster, 1 = Disaster)\")\n",
        "plt.ylabel(\"Count\")\n",
        "plt.show()"
      ],
      "metadata": {
        "colab": {
          "base_uri": "https://localhost:8080/",
          "height": 472
        },
        "id": "7bW6URh0WcEB",
        "outputId": "8d32b834-31b1-41f4-8725-43e6e7c87cb8"
      },
      "id": "7bW6URh0WcEB",
      "execution_count": null,
      "outputs": [
        {
          "output_type": "display_data",
          "data": {
            "text/plain": [
              "<Figure size 640x480 with 1 Axes>"
            ],
            "image/png": "[encoded data removed]"
          },
          "metadata": {}
        }
      ]
    },
    {
      "cell_type": "code",
      "source": [
        "sns.barplot(\n",
        "    x=df['keyword'].value_counts().head(10).values,\n",
        "    y=df['keyword'].value_counts().head(10).index\n",
        ")\n",
        "plt.title(\"Top 10 Keywords in Tweets\")\n",
        "plt.xlabel(\"Count\")\n",
        "plt.show()\n"
      ],
      "metadata": {
        "colab": {
          "base_uri": "https://localhost:8080/",
          "height": 472
        },
        "id": "PT6hgpmaW_EH",
        "outputId": "6fb90865-aa04-4c1f-c271-0a698414177b"
      },
      "id": "PT6hgpmaW_EH",
      "execution_count": null,
      "outputs": [
        {
          "output_type": "display_data",
          "data": {
            "text/plain": [
              "<Figure size 640x480 with 1 Axes>"
            ],
            "image/png": "[encoded data removed]"
          },
          "metadata": {}
        }
      ]
    },
    {
      "cell_type": "code",
      "source": [
        "from wordcloud import WordCloud\n",
        "\n",
        "disaster_tweets = \" \".join(df[df.target==1][\"text\"])\n",
        "nondisaster_tweets = \" \".join(df[df.target==0][\"text\"])\n",
        "\n",
        "wc = WordCloud(width=800, height=400, background_color=\"white\").generate(disaster_tweets)\n",
        "plt.imshow(wc, interpolation=\"bilinear\")\n",
        "plt.axis(\"off\")\n",
        "plt.title(\"Word Cloud for Disaster Tweets\")\n",
        "plt.show()"
      ],
      "metadata": {
        "colab": {
          "base_uri": "https://localhost:8080/",
          "height": 307
        },
        "id": "uV0lV1FJWlEl",
        "outputId": "d152b7bc-721b-4116-9623-6843944d4da4"
      },
      "id": "uV0lV1FJWlEl",
      "execution_count": null,
      "outputs": [
        {
          "output_type": "display_data",
          "data": {
            "text/plain": [
              "<Figure size 640x480 with 1 Axes>"
            ],
            "image/png": "[encoded data removed]"
          },
          "metadata": {}
        }
      ]
    },
    {
      "cell_type": "markdown",
      "id": "04ed873d",
      "metadata": {
        "papermill": {
          "duration": 0.011086,
          "end_time": "2024-02-13T06:41:14.986774",
          "exception": false,
          "start_time": "2024-02-13T06:41:14.975688",
          "status": "completed"
        },
        "tags": [],
        "id": "04ed873d"
      },
      "source": [
        "## Tokenizer\n",
        "\n",
        "In BERT, WordPiece tokenizer (a subword tokenizer) is used for tokenization. A word can be broken down into more than one sub-word, which helps in dealing with unknown words. For best results, it is adviced to tokenize with the same tokenizer the BERT model was trained on.\n",
        "\n",
        "Next, we need to convert each token to an id as present in the tokenizer vocabulary. If there’s a token that is not present in the vocabulary, the tokenizer will use the special [UNK] token and use its id."
      ]
    },
    {
      "cell_type": "code",
      "execution_count": null,
      "id": "7c60e174",
      "metadata": {
        "execution": {
          "iopub.execute_input": "2024-02-13T06:41:15.011467Z",
          "iopub.status.busy": "2024-02-13T06:41:15.010829Z",
          "iopub.status.idle": "2024-02-13T06:41:16.879301Z",
          "shell.execute_reply": "2024-02-13T06:41:16.878546Z"
        },
        "papermill": {
          "duration": 1.883218,
          "end_time": "2024-02-13T06:41:16.881522",
          "exception": false,
          "start_time": "2024-02-13T06:41:14.998304",
          "status": "completed"
        },
        "tags": [],
        "id": "7c60e174",
        "colab": {
          "base_uri": "https://localhost:8080/",
          "height": 113,
          "referenced_widgets": [
            "8bbe04d42bac480b80eab8ee44a46d3f",
            "b22e367d15964a58a09eb8a030256383",
            "d69ee3af2a6e4824ab66d9297342074a",
            "5191604a30504682a4e5fc020b5ec829",
            "de586c528b694c0681adf67e16a22fd2",
            "3f29e5c3b14046dd9994e9d5fa50ba1a",
            "ed636c115e9645dc9543b6ab4c780250",
            "92ecfa19edb546bf893ed4761df02b02",
            "33608ac4dc8541df9cdede816a5d320c",
            "798688f2219f44bcb72c8e4c9bd92b23",
            "200ca4e9312c452c9eecd940c1cce837",
            "f044085e55fb4109b600f12a4a462c15",
            "52d096dab79048f48f81880de4422023",
            "502a6f955fe44d7085c8f8e2a2101ecd",
            "5aef1c49067441ebbe7d59446de711ae",
            "3377287c2a9b42c1ba4f4ae07ece8b69",
            "80cdb47bd05f4fb3822a988af4606d3c",
            "b9b1f7f5e8104b908b27000db8eac395",
            "8d7a96e248624d0b9343e3ce9e92e52f",
            "5df200aa63f746aa8511571a89b466c7",
            "fe5a721919de4ce5afd10cc6d72dc59e",
            "ca0c8b51d59c49e8a8c7367c3b7bf9bd",
            "dcd3463c44784479a86f80ee8f5133e3",
            "d5d9a42a2a8449c39fec8c0de2f781fd",
            "ee9b795c133e45d98653b4b4de5315b4",
            "685e8e5b47304b66bcaac89c3bf88cca",
            "e14e69ffd08346809f87943709640799",
            "11af475848fd4d6cb867553b1e4df9b9",
            "32b8bf90be14408d8763d396b9d79a7b",
            "b10220c68e0144728713656570ebb602",
            "b316366594494a64bb9cfba2e67e70bc",
            "46ff928b24fa4829a5f7afeb9f2e9706",
            "ae42061a501146a48db3c243af9ed41b"
          ]
        },
        "outputId": "4b3765c2-c1e6-430f-debf-a9abaaa75041"
      },
      "outputs": [
        {
          "output_type": "display_data",
          "data": {
            "text/plain": [
              "tokenizer_config.json:   0%|          | 0.00/48.0 [00:00<?, ?B/s]"
            ],
            "application/vnd.jupyter.widget-view+json": {
              "version_major": 2,
              "version_minor": 0,
              "model_id": "8bbe04d42bac480b80eab8ee44a46d3f"
            }
          },
          "metadata": {}
        },
        {
          "output_type": "display_data",
          "data": {
            "text/plain": [
              "vocab.txt:   0%|          | 0.00/232k [00:00<?, ?B/s]"
            ],
            "application/vnd.jupyter.widget-view+json": {
              "version_major": 2,
              "version_minor": 0,
              "model_id": "f044085e55fb4109b600f12a4a462c15"
            }
          },
          "metadata": {}
        },
        {
          "output_type": "display_data",
          "data": {
            "text/plain": [
              "tokenizer.json:   0%|          | 0.00/466k [00:00<?, ?B/s]"
            ],
            "application/vnd.jupyter.widget-view+json": {
              "version_major": 2,
              "version_minor": 0,
              "model_id": "dcd3463c44784479a86f80ee8f5133e3"
            }
          },
          "metadata": {}
        }
      ],
      "source": [
        "tokenizer = AutoTokenizer.from_pretrained('bert-base-uncased', do_lower_case=True)"
      ]
    },
    {
      "cell_type": "code",
      "execution_count": null,
      "id": "ed895199",
      "metadata": {
        "execution": {
          "iopub.execute_input": "2024-02-13T06:41:16.908152Z",
          "iopub.status.busy": "2024-02-13T06:41:16.907344Z",
          "iopub.status.idle": "2024-02-13T06:41:16.914914Z",
          "shell.execute_reply": "2024-02-13T06:41:16.913984Z"
        },
        "papermill": {
          "duration": 0.023667,
          "end_time": "2024-02-13T06:41:16.917602",
          "exception": false,
          "start_time": "2024-02-13T06:41:16.893935",
          "status": "completed"
        },
        "tags": [],
        "colab": {
          "base_uri": "https://localhost:8080/"
        },
        "id": "ed895199",
        "outputId": "907b7da7-5119-4623-f277-450a4a59bd21"
      },
      "outputs": [
        {
          "output_type": "stream",
          "name": "stdout",
          "text": [
            " Original:  Our Deeds are the Reason of this #earthquake May ALLAH Forgive us all\n",
            "Tokenized:  ['our', 'deeds', 'are', 'the', 'reason', 'of', 'this', '#', 'earthquake', 'may', 'allah', 'forgive', 'us', 'all']\n",
            "Token IDs:  [2256, 15616, 2024, 1996, 3114, 1997, 2023, 1001, 8372, 2089, 16455, 9641, 2149, 2035]\n"
          ]
        }
      ],
      "source": [
        "print(' Original: ', tweets[0])\n",
        "# Print the sentence split into tokens.\n",
        "print('Tokenized: ', tokenizer.tokenize(tweets[0]))\n",
        "# Print the sentence mapped to token ids.\n",
        "print('Token IDs: ', tokenizer.convert_tokens_to_ids(tokenizer.tokenize(tweets[0])))"
      ]
    },
    {
      "cell_type": "code",
      "execution_count": null,
      "id": "f047b8b5",
      "metadata": {
        "execution": {
          "iopub.execute_input": "2024-02-13T06:41:16.946972Z",
          "iopub.status.busy": "2024-02-13T06:41:16.946683Z",
          "iopub.status.idle": "2024-02-13T06:41:23.051213Z",
          "shell.execute_reply": "2024-02-13T06:41:23.050090Z"
        },
        "papermill": {
          "duration": 6.122239,
          "end_time": "2024-02-13T06:41:23.053953",
          "exception": false,
          "start_time": "2024-02-13T06:41:16.931714",
          "status": "completed"
        },
        "tags": [],
        "colab": {
          "base_uri": "https://localhost:8080/"
        },
        "id": "f047b8b5",
        "outputId": "1ac65852-e660-4756-bea6-aced03379978"
      },
      "outputs": [
        {
          "output_type": "stream",
          "name": "stdout",
          "text": [
            "Max sentence length:  84\n"
          ]
        }
      ],
      "source": [
        "max_len = 0\n",
        "# For every sentence...\n",
        "for sent in tweets:\n",
        "    # Update the maximum sentence length.\n",
        "    input_ids = tokenizer.encode(sent, add_special_tokens=True)\n",
        "    max_len = max(max_len, len(input_ids))\n",
        "print('Max sentence length: ', max_len)"
      ]
    },
    {
      "cell_type": "code",
      "execution_count": null,
      "id": "6e532a13",
      "metadata": {
        "execution": {
          "iopub.execute_input": "2024-02-13T06:41:23.085542Z",
          "iopub.status.busy": "2024-02-13T06:41:23.084810Z",
          "iopub.status.idle": "2024-02-13T06:41:30.462513Z",
          "shell.execute_reply": "2024-02-13T06:41:30.461574Z"
        },
        "papermill": {
          "duration": 7.393067,
          "end_time": "2024-02-13T06:41:30.464703",
          "exception": false,
          "start_time": "2024-02-13T06:41:23.071636",
          "status": "completed"
        },
        "tags": [],
        "colab": {
          "base_uri": "https://localhost:8080/"
        },
        "id": "6e532a13",
        "outputId": "b2cac44d-457b-400a-fc83-d1ebe3013350"
      },
      "outputs": [
        {
          "output_type": "stream",
          "name": "stdout",
          "text": [
            "Original:  Our Deeds are the Reason of this #earthquake May ALLAH Forgive us all\n",
            "Token IDs: tensor([  101,  2256, 15616,  2024,  1996,  3114,  1997,  2023,  1001,  8372,\n",
            "         2089, 16455,  9641,  2149,  2035,   102,     0,     0,     0,     0,\n",
            "            0,     0,     0,     0,     0,     0,     0,     0,     0,     0,\n",
            "            0,     0,     0,     0,     0,     0,     0,     0,     0,     0,\n",
            "            0,     0,     0,     0,     0,     0,     0,     0,     0,     0,\n",
            "            0,     0,     0,     0,     0,     0,     0,     0,     0,     0,\n",
            "            0,     0,     0,     0,     0,     0,     0,     0,     0,     0,\n",
            "            0,     0,     0,     0,     0,     0,     0,     0,     0,     0,\n",
            "            0,     0,     0,     0])\n"
          ]
        }
      ],
      "source": [
        "input_ids = []\n",
        "attention_masks = []\n",
        "# For every tweet...\n",
        "for tweet in tweets:\n",
        "    encoded_dict = tokenizer.encode_plus(\n",
        "                        tweet,                      # Sentence to encode.\n",
        "                        add_special_tokens = True, # Add '[CLS]' and '[SEP]'\n",
        "                        max_length = max_len,           # Pad & truncate all sentences.\n",
        "                        padding = 'max_length',\n",
        "                        return_attention_mask = True,   # Construct attn. masks.\n",
        "                        return_tensors = 'pt',     # Return pytorch tensors.\n",
        "                   )\n",
        "    # Add the encoded sentence to the list.\n",
        "    input_ids.append(encoded_dict['input_ids'])\n",
        "    # And its attention mask (simply differentiates padding from non-padding).\n",
        "    attention_masks.append(encoded_dict['attention_mask'])\n",
        "# Convert the lists into tensors.\n",
        "input_ids = torch.cat(input_ids, dim=0)\n",
        "attention_masks = torch.cat(attention_masks, dim=0)\n",
        "labels = torch.tensor(labels)\n",
        "# Print sentence 0, now as a list of IDs.\n",
        "print('Original: ', tweets[0])\n",
        "print('Token IDs:', input_ids[0])"
      ]
    },
    {
      "cell_type": "code",
      "source": [
        "labels"
      ],
      "metadata": {
        "colab": {
          "base_uri": "https://localhost:8080/"
        },
        "id": "Cv4wnBgfDX83",
        "outputId": "c03bb823-772f-41a1-a30a-afd2c6780e13"
      },
      "id": "Cv4wnBgfDX83",
      "execution_count": null,
      "outputs": [
        {
          "output_type": "execute_result",
          "data": {
            "text/plain": [
              "tensor([1, 1, 1,  ..., 1, 1, 1])"
            ]
          },
          "metadata": {},
          "execution_count": 19
        }
      ]
    },
    {
      "cell_type": "markdown",
      "id": "ae48633f",
      "metadata": {
        "papermill": {
          "duration": 0.010833,
          "end_time": "2024-02-13T06:41:06.458819",
          "exception": false,
          "start_time": "2024-02-13T06:41:06.447986",
          "status": "completed"
        },
        "tags": [],
        "id": "ae48633f"
      },
      "source": [
        "#LoRA and BERT\n",
        "\n",
        "We will use a pretrained bert-based model for this task\n",
        "\n",
        "Ref : https://huggingface.co/distilbert-base-uncased\n",
        "\n"
      ]
    },
    {
      "cell_type": "markdown",
      "source": [
        "More context on Slides"
      ],
      "metadata": {
        "id": "f4idyt5ATQcq"
      },
      "id": "f4idyt5ATQcq"
    },
    {
      "cell_type": "code",
      "execution_count": null,
      "id": "433567c6",
      "metadata": {
        "execution": {
          "iopub.execute_input": "2024-02-13T06:41:06.483540Z",
          "iopub.status.busy": "2024-02-13T06:41:06.483227Z",
          "iopub.status.idle": "2024-02-13T06:41:14.780652Z",
          "shell.execute_reply": "2024-02-13T06:41:14.779850Z"
        },
        "papermill": {
          "duration": 8.312542,
          "end_time": "2024-02-13T06:41:14.782913",
          "exception": false,
          "start_time": "2024-02-13T06:41:06.470371",
          "status": "completed"
        },
        "tags": [],
        "colab": {
          "base_uri": "https://localhost:8080/",
          "height": 220,
          "referenced_widgets": [
            "020e168769334b8eb3a5e10ff2755f2d",
            "a1def721afde459ca8be978e783cbee0",
            "0af769b573a24f74b2586ddb6acc0b76",
            "06c641a041844ef8a9b43f0f9be8b81d",
            "ce7c44d5d512401e91704fa2b290b4e0",
            "319ff5cb37f7474d9638439259f3b585",
            "a9e04826cc8f4f1c9b053fa1545c6ccd",
            "1d1e4d430e3a41acafeef24463ad5c11",
            "6c2cc0be270c4fcbbf096765cf628bce",
            "3ea25b1066d84bdea8fa730d28666c69",
            "ae0052d5fff245c48b9225b2a3aeee10",
            "879938886e574550be0470277ed74171",
            "8520b88c24134157950deee837396073",
            "3cea53f1d32c47b1a095d12f85870bc4",
            "510f5b175fd1484d91319d6e9eeca2be",
            "e70f679b5e52465b80855ca8454a97f9",
            "4e78ede9b4694b0195c69479a4e92144",
            "dd32592b0ce645a78c844a1adcd4e843",
            "02dadbd94b3d4965b0134c904aa5fd41",
            "e0803100c5c54b0195550ec19d191896",
            "5e52b14fc81c41ff85dad92c04f58a7d",
            "2b93aefe4669405d8d44ebfb15780a44"
          ]
        },
        "id": "433567c6",
        "outputId": "d1cec087-974b-44d8-e0ea-a0cbb2ae40a4"
      },
      "outputs": [
        {
          "output_type": "stream",
          "name": "stderr",
          "text": [
            "/usr/local/lib/python3.12/dist-packages/huggingface_hub/utils/_auth.py:94: UserWarning: \n",
            "The secret `HF_TOKEN` does not exist in your Colab secrets.\n",
            "To authenticate with the Hugging Face Hub, create a token in your settings tab (https://huggingface.co/settings/tokens), set it as secret in your Google Colab and restart your session.\n",
            "You will be able to reuse this secret in all of your notebooks.\n",
            "Please note that authentication is recommended but still optional to access public models or datasets.\n",
            "  warnings.warn(\n"
          ]
        },
        {
          "output_type": "display_data",
          "data": {
            "text/plain": [
              "config.json:   0%|          | 0.00/570 [00:00<?, ?B/s]"
            ],
            "application/vnd.jupyter.widget-view+json": {
              "version_major": 2,
              "version_minor": 0,
              "model_id": "020e168769334b8eb3a5e10ff2755f2d"
            }
          },
          "metadata": {}
        },
        {
          "output_type": "display_data",
          "data": {
            "text/plain": [
              "model.safetensors:   0%|          | 0.00/440M [00:00<?, ?B/s]"
            ],
            "application/vnd.jupyter.widget-view+json": {
              "version_major": 2,
              "version_minor": 0,
              "model_id": "879938886e574550be0470277ed74171"
            }
          },
          "metadata": {}
        },
        {
          "output_type": "stream",
          "name": "stderr",
          "text": [
            "Some weights of BertForSequenceClassification were not initialized from the model checkpoint at bert-base-uncased and are newly initialized: ['classifier.bias', 'classifier.weight']\n",
            "You should probably TRAIN this model on a down-stream task to be able to use it for predictions and inference.\n"
          ]
        }
      ],
      "source": [
        "model = AutoModelForSequenceClassification.from_pretrained(\"bert-base-uncased\", num_labels=2)\n",
        "for param in model.parameters():\n",
        "    param.requires_grad = False"
      ]
    },
    {
      "cell_type": "code",
      "execution_count": null,
      "id": "a26d84b4",
      "metadata": {
        "execution": {
          "iopub.execute_input": "2024-02-13T06:41:14.807211Z",
          "iopub.status.busy": "2024-02-13T06:41:14.806898Z",
          "iopub.status.idle": "2024-02-13T06:41:14.813408Z",
          "shell.execute_reply": "2024-02-13T06:41:14.811473Z"
        },
        "papermill": {
          "duration": 0.020707,
          "end_time": "2024-02-13T06:41:14.815339",
          "exception": false,
          "start_time": "2024-02-13T06:41:14.794632",
          "status": "completed"
        },
        "tags": [],
        "colab": {
          "base_uri": "https://localhost:8080/"
        },
        "id": "a26d84b4",
        "outputId": "d065e1fd-b752-4da6-87ad-f523ec26ecf7"
      },
      "outputs": [
        {
          "output_type": "stream",
          "name": "stdout",
          "text": [
            "BertForSequenceClassification(\n",
            "  (bert): BertModel(\n",
            "    (embeddings): BertEmbeddings(\n",
            "      (word_embeddings): Embedding(30522, 768, padding_idx=0)\n",
            "      (position_embeddings): Embedding(512, 768)\n",
            "      (token_type_embeddings): Embedding(2, 768)\n",
            "      (LayerNorm): LayerNorm((768,), eps=1e-12, elementwise_affine=True)\n",
            "      (dropout): Dropout(p=0.1, inplace=False)\n",
            "    )\n",
            "    (encoder): BertEncoder(\n",
            "      (layer): ModuleList(\n",
            "        (0-11): 12 x BertLayer(\n",
            "          (attention): BertAttention(\n",
            "            (self): BertSdpaSelfAttention(\n",
            "              (query): Linear(in_features=768, out_features=768, bias=True)\n",
            "              (key): Linear(in_features=768, out_features=768, bias=True)\n",
            "              (value): Linear(in_features=768, out_features=768, bias=True)\n",
            "              (dropout): Dropout(p=0.1, inplace=False)\n",
            "            )\n",
            "            (output): BertSelfOutput(\n",
            "              (dense): Linear(in_features=768, out_features=768, bias=True)\n",
            "              (LayerNorm): LayerNorm((768,), eps=1e-12, elementwise_affine=True)\n",
            "              (dropout): Dropout(p=0.1, inplace=False)\n",
            "            )\n",
            "          )\n",
            "          (intermediate): BertIntermediate(\n",
            "            (dense): Linear(in_features=768, out_features=3072, bias=True)\n",
            "            (intermediate_act_fn): GELUActivation()\n",
            "          )\n",
            "          (output): BertOutput(\n",
            "            (dense): Linear(in_features=3072, out_features=768, bias=True)\n",
            "            (LayerNorm): LayerNorm((768,), eps=1e-12, elementwise_affine=True)\n",
            "            (dropout): Dropout(p=0.1, inplace=False)\n",
            "          )\n",
            "        )\n",
            "      )\n",
            "    )\n",
            "    (pooler): BertPooler(\n",
            "      (dense): Linear(in_features=768, out_features=768, bias=True)\n",
            "      (activation): Tanh()\n",
            "    )\n",
            "  )\n",
            "  (dropout): Dropout(p=0.1, inplace=False)\n",
            "  (classifier): Linear(in_features=768, out_features=2, bias=True)\n",
            ")\n"
          ]
        }
      ],
      "source": [
        "print(model)"
      ]
    },
    {
      "cell_type": "markdown",
      "source": [
        "More context on slides"
      ],
      "metadata": {
        "id": "mUIU3QsZamIU"
      },
      "id": "mUIU3QsZamIU"
    },
    {
      "cell_type": "code",
      "execution_count": null,
      "id": "52af5f23",
      "metadata": {
        "execution": {
          "iopub.execute_input": "2024-02-13T06:41:14.839800Z",
          "iopub.status.busy": "2024-02-13T06:41:14.839071Z",
          "iopub.status.idle": "2024-02-13T06:41:14.845440Z",
          "shell.execute_reply": "2024-02-13T06:41:14.844578Z"
        },
        "papermill": {
          "duration": 0.02044,
          "end_time": "2024-02-13T06:41:14.847215",
          "exception": false,
          "start_time": "2024-02-13T06:41:14.826775",
          "status": "completed"
        },
        "tags": [],
        "id": "52af5f23"
      },
      "outputs": [],
      "source": [
        "class LoRALayer(torch.nn.Module):\n",
        "    def __init__(self, in_dim, out_dim, rank, alpha):\n",
        "        super().__init__()\n",
        "        std_dev = 1 / torch.sqrt(torch.tensor(rank).float())\n",
        "        self.A = torch.nn.Parameter(torch.randn(in_dim, rank) * std_dev)\n",
        "        self.B = torch.nn.Parameter(torch.zeros(rank, out_dim))\n",
        "        self.alpha = alpha\n",
        "\n",
        "    def forward(self, x):\n",
        "        x = self.alpha * (x @ self.A @ self.B)\n",
        "        return x"
      ]
    },
    {
      "cell_type": "code",
      "execution_count": null,
      "id": "87fd947e",
      "metadata": {
        "execution": {
          "iopub.execute_input": "2024-02-13T06:41:14.871535Z",
          "iopub.status.busy": "2024-02-13T06:41:14.871001Z",
          "iopub.status.idle": "2024-02-13T06:41:14.876580Z",
          "shell.execute_reply": "2024-02-13T06:41:14.875734Z"
        },
        "papermill": {
          "duration": 0.019791,
          "end_time": "2024-02-13T06:41:14.878459",
          "exception": false,
          "start_time": "2024-02-13T06:41:14.858668",
          "status": "completed"
        },
        "tags": [],
        "id": "87fd947e"
      },
      "outputs": [],
      "source": [
        "class LinearWithLoRA(torch.nn.Module):\n",
        "    def __init__(self, linear, rank, alpha):\n",
        "        super().__init__()\n",
        "        self.linear = linear\n",
        "        self.lora = LoRALayer(\n",
        "            linear.in_features, linear.out_features, rank, alpha\n",
        "        )\n",
        "\n",
        "    def forward(self, x):\n",
        "        return self.linear(x) + self.lora(x)"
      ]
    },
    {
      "cell_type": "code",
      "execution_count": null,
      "id": "c3adcd0c",
      "metadata": {
        "execution": {
          "iopub.execute_input": "2024-02-13T06:41:14.903843Z",
          "iopub.status.busy": "2024-02-13T06:41:14.903108Z",
          "iopub.status.idle": "2024-02-13T06:41:14.961824Z",
          "shell.execute_reply": "2024-02-13T06:41:14.961047Z"
        },
        "papermill": {
          "duration": 0.07359,
          "end_time": "2024-02-13T06:41:14.964066",
          "exception": false,
          "start_time": "2024-02-13T06:41:14.890476",
          "status": "completed"
        },
        "tags": [],
        "id": "c3adcd0c"
      },
      "outputs": [],
      "source": [
        ".from functools import partial\n",
        "\n",
        "# Your LoRA hyperparameters remain the same\n",
        "lora_r = 8\n",
        "lora_alpha = 16\n",
        "lora_dropout = 0.05\n",
        "lora_query = True\n",
        "lora_key = True\n",
        "lora_value = True\n",
        "lora_projection = True\n",
        "lora_mlp = True\n",
        "lora_head = True\n",
        "\n",
        "# Assuming 'LinearWithLoRA' is defined elsewhere\n",
        "assign_lora = partial(LinearWithLoRA, rank=lora_r, alpha=lora_alpha)\n",
        "\n",
        "# --- Start of Modifications ---\n",
        "\n",
        "# 1. The path to the transformer layers is different\n",
        "#    model.distilbert.transformer.layer -> model.bert.encoder.layer\n",
        "for layer in model.bert.encoder.layer:\n",
        "    if lora_query:\n",
        "        # 2. Path to Q, K, V is deeper and named differently\n",
        "        #    layer.attention.q_lin -> layer.attention.self.query\n",
        "        layer.attention.self.query = assign_lora(layer.attention.self.query)\n",
        "    if lora_key:\n",
        "        #    layer.attention.k_lin -> layer.attention.self.key\n",
        "        layer.attention.self.key = assign_lora(layer.attention.self.key)\n",
        "    if lora_value:\n",
        "        #    layer.attention.v_lin -> layer.attention.self.value\n",
        "        layer.attention.self.value = assign_lora(layer.attention.self.value)\n",
        "    if lora_projection:\n",
        "        # 3. Path to the attention output layer is different\n",
        "        #    layer.attention.out_lin -> layer.attention.output.dense\n",
        "        layer.attention.output.dense = assign_lora(layer.attention.output.dense)\n",
        "    if lora_mlp:\n",
        "        # 4. The Feed-Forward Network (FFN) layers have different names\n",
        "        #    layer.ffn.lin1 -> layer.intermediate.dense\n",
        "        layer.intermediate.dense = assign_lora(layer.intermediate.dense)\n",
        "        #    layer.ffn.lin2 -> layer.output.dense\n",
        "        layer.output.dense = assign_lora(layer.output.dense)\n",
        "\n",
        "if lora_head:\n",
        "    # 5. The BERT classification head does not have a 'pre_classifier'\n",
        "    #    We only modify the final 'classifier' layer.\n",
        "    model.classifier = assign_lora(model.classifier)"
      ]
    },
    {
      "cell_type": "markdown",
      "id": "eff403a5",
      "metadata": {
        "papermill": {
          "duration": 0.01194,
          "end_time": "2024-02-13T06:41:30.489474",
          "exception": false,
          "start_time": "2024-02-13T06:41:30.477534",
          "status": "completed"
        },
        "tags": [],
        "id": "eff403a5"
      },
      "source": [
        "### Train-validation split"
      ]
    },
    {
      "cell_type": "code",
      "execution_count": null,
      "id": "08cea320",
      "metadata": {
        "execution": {
          "iopub.execute_input": "2024-02-13T06:41:30.555174Z",
          "iopub.status.busy": "2024-02-13T06:41:30.554489Z",
          "iopub.status.idle": "2024-02-13T06:41:30.563221Z",
          "shell.execute_reply": "2024-02-13T06:41:30.562443Z"
        },
        "papermill": {
          "duration": 0.023807,
          "end_time": "2024-02-13T06:41:30.565035",
          "exception": false,
          "start_time": "2024-02-13T06:41:30.541228",
          "status": "completed"
        },
        "tags": [],
        "colab": {
          "base_uri": "https://localhost:8080/"
        },
        "id": "08cea320",
        "outputId": "23c294e0-66b5-4e72-f805-0b756d8fae9b"
      },
      "outputs": [
        {
          "output_type": "stream",
          "name": "stdout",
          "text": [
            "6,090 training samples\n",
            "1,523 validation samples\n"
          ]
        }
      ],
      "source": [
        "# Combine the training inputs into a TensorDataset.\n",
        "dataset = TensorDataset(input_ids, attention_masks, labels)\n",
        "# Create a 80-20 train-validation split.\n",
        "# Calculate the number of samples to include in each set.\n",
        "train_size = int(0.8 * len(dataset))\n",
        "#val_size = int(0.2 * len(dataset))\n",
        "val_size = len(dataset)  - train_size\n",
        "# Divide the dataset by randomly selecting samples.\n",
        "train_dataset, val_dataset = random_split(dataset, [train_size, val_size])\n",
        "\n",
        "print('{:>5,} training samples'.format(train_size))\n",
        "print('{:>5,} validation samples'.format(val_size))"
      ]
    },
    {
      "cell_type": "code",
      "execution_count": null,
      "id": "bb29d081",
      "metadata": {
        "execution": {
          "iopub.execute_input": "2024-02-13T06:41:30.590424Z",
          "iopub.status.busy": "2024-02-13T06:41:30.590134Z",
          "iopub.status.idle": "2024-02-13T06:41:30.595260Z",
          "shell.execute_reply": "2024-02-13T06:41:30.594466Z"
        },
        "papermill": {
          "duration": 0.019952,
          "end_time": "2024-02-13T06:41:30.597111",
          "exception": false,
          "start_time": "2024-02-13T06:41:30.577159",
          "status": "completed"
        },
        "tags": [],
        "id": "bb29d081"
      },
      "outputs": [],
      "source": [
        "# The DataLoader needs to know our batch size for training, so we specify it\n",
        "# here. For fine-tuning BERT on a specific task, the authors recommend a batch\n",
        "# size of 16 or 32.\n",
        "batch_size = 32\n",
        "# Create the DataLoaders for our training and validation sets.\n",
        "# We'll take training samples in random order.\n",
        "train_dataloader = DataLoader(\n",
        "            train_dataset,  # The training samples.\n",
        "            sampler = RandomSampler(train_dataset), # Select batches randomly\n",
        "            batch_size = batch_size # Trains with this batch size.\n",
        "        )\n",
        "# For validation the order doesn't matter, so we'll just read them sequentially.\n",
        "validation_dataloader = DataLoader(\n",
        "            val_dataset, # The validation samples.\n",
        "            sampler = SequentialSampler(val_dataset), # Pull out batches sequentially.\n",
        "            batch_size = batch_size # Evaluate with this batch size.\n",
        "        )"
      ]
    },
    {
      "cell_type": "code",
      "execution_count": null,
      "id": "80c8f9bd",
      "metadata": {
        "execution": {
          "iopub.execute_input": "2024-02-13T06:41:30.622665Z",
          "iopub.status.busy": "2024-02-13T06:41:30.622167Z",
          "iopub.status.idle": "2024-02-13T06:41:30.806872Z",
          "shell.execute_reply": "2024-02-13T06:41:30.805901Z"
        },
        "papermill": {
          "duration": 0.200019,
          "end_time": "2024-02-13T06:41:30.809280",
          "exception": false,
          "start_time": "2024-02-13T06:41:30.609261",
          "status": "completed"
        },
        "tags": [],
        "id": "80c8f9bd"
      },
      "outputs": [],
      "source": [
        "model = model.to(device)"
      ]
    },
    {
      "cell_type": "markdown",
      "id": "e561b2b2",
      "metadata": {
        "papermill": {
          "duration": 0.012112,
          "end_time": "2024-02-13T06:41:30.834499",
          "exception": false,
          "start_time": "2024-02-13T06:41:30.822387",
          "status": "completed"
        },
        "tags": [],
        "id": "e561b2b2"
      },
      "source": [
        "# Fine tuning the model using LoRA"
      ]
    },
    {
      "cell_type": "code",
      "execution_count": null,
      "id": "32a80bce",
      "metadata": {
        "execution": {
          "iopub.execute_input": "2024-02-13T06:41:30.860584Z",
          "iopub.status.busy": "2024-02-13T06:41:30.859800Z",
          "iopub.status.idle": "2024-02-13T06:41:30.868509Z",
          "shell.execute_reply": "2024-02-13T06:41:30.867572Z"
        },
        "papermill": {
          "duration": 0.023916,
          "end_time": "2024-02-13T06:41:30.870568",
          "exception": false,
          "start_time": "2024-02-13T06:41:30.846652",
          "status": "completed"
        },
        "tags": [],
        "id": "32a80bce"
      },
      "outputs": [],
      "source": [
        "# setting up the optimiz\n",
        "optimizer = torch.optim.AdamW(model.parameters(),\n",
        "                  lr = 2e-5, # args.learning_rate - default is 5e-5, our notebook has 2e-5\n",
        "                  eps = 1e-8 # args.adam_epsilon  - default is 1e-8.\n",
        "                )"
      ]
    },
    {
      "cell_type": "code",
      "execution_count": null,
      "id": "b0f3a53a",
      "metadata": {
        "execution": {
          "iopub.execute_input": "2024-02-13T06:41:30.896642Z",
          "iopub.status.busy": "2024-02-13T06:41:30.896320Z",
          "iopub.status.idle": "2024-02-13T06:41:30.901025Z",
          "shell.execute_reply": "2024-02-13T06:41:30.900288Z"
        },
        "papermill": {
          "duration": 0.019818,
          "end_time": "2024-02-13T06:41:30.902795",
          "exception": false,
          "start_time": "2024-02-13T06:41:30.882977",
          "status": "completed"
        },
        "tags": [],
        "id": "b0f3a53a"
      },
      "outputs": [],
      "source": [
        "# Number of training epochs. The BERT authors recommend between 2 and 4.\n",
        "# We chose to run for 4, but we'll see later that this may be over-fitting the\n",
        "# training data.\n",
        "epochs = 4\n",
        "# Total number of training steps is [number of batches] x [number of epochs].\n",
        "# (Note that this is not the same as the number of training samples).\n",
        "total_steps = len(train_dataloader) * epochs\n",
        "# Create the learning rate scheduler.\n",
        "scheduler = get_linear_schedule_with_warmup(optimizer,\n",
        "                                            num_warmup_steps = 0, # Default value in run_glue.py\n",
        "                                            num_training_steps = total_steps)"
      ]
    },
    {
      "cell_type": "code",
      "execution_count": null,
      "id": "899889f0",
      "metadata": {
        "execution": {
          "iopub.execute_input": "2024-02-13T06:41:30.928441Z",
          "iopub.status.busy": "2024-02-13T06:41:30.928148Z",
          "iopub.status.idle": "2024-02-13T06:41:30.932661Z",
          "shell.execute_reply": "2024-02-13T06:41:30.931835Z"
        },
        "papermill": {
          "duration": 0.019423,
          "end_time": "2024-02-13T06:41:30.934559",
          "exception": false,
          "start_time": "2024-02-13T06:41:30.915136",
          "status": "completed"
        },
        "tags": [],
        "id": "899889f0"
      },
      "outputs": [],
      "source": [
        "# Function to calculate the accuracy of our predictions vs labels\n",
        "def flat_accuracy(preds, labels):\n",
        "    pred_flat = np.argmax(preds, axis=1).flatten()\n",
        "    labels_flat = labels.flatten()\n",
        "    return np.sum(pred_flat == labels_flat) / len(labels_flat)"
      ]
    },
    {
      "cell_type": "code",
      "execution_count": null,
      "id": "a104757b",
      "metadata": {
        "execution": {
          "iopub.execute_input": "2024-02-13T06:41:30.960562Z",
          "iopub.status.busy": "2024-02-13T06:41:30.960046Z",
          "iopub.status.idle": "2024-02-13T06:41:30.964615Z",
          "shell.execute_reply": "2024-02-13T06:41:30.963816Z"
        },
        "papermill": {
          "duration": 0.019556,
          "end_time": "2024-02-13T06:41:30.966430",
          "exception": false,
          "start_time": "2024-02-13T06:41:30.946874",
          "status": "completed"
        },
        "tags": [],
        "id": "a104757b"
      },
      "outputs": [],
      "source": [
        "def format_time(elapsed):\n",
        "    '''\n",
        "    Takes a time in seconds and returns a string hh:mm:ss\n",
        "    '''\n",
        "    # Round to the nearest second.\n",
        "    elapsed_rounded = int(round((elapsed)))\n",
        "    # Format as hh:mm:ss\n",
        "    return str(datetime.timedelta(seconds=elapsed_rounded))"
      ]
    },
    {
      "cell_type": "code",
      "execution_count": null,
      "id": "b3e6cd57",
      "metadata": {
        "execution": {
          "iopub.execute_input": "2024-02-13T06:41:30.992386Z",
          "iopub.status.busy": "2024-02-13T06:41:30.992117Z",
          "iopub.status.idle": "2024-02-13T06:43:08.309436Z",
          "shell.execute_reply": "2024-02-13T06:43:08.308240Z"
        },
        "papermill": {
          "duration": 97.332689,
          "end_time": "2024-02-13T06:43:08.311530",
          "exception": false,
          "start_time": "2024-02-13T06:41:30.978841",
          "status": "completed"
        },
        "tags": [],
        "colab": {
          "base_uri": "https://localhost:8080/"
        },
        "id": "b3e6cd57",
        "outputId": "8fcecbbd-7fed-4bc7-d547-0acdad1fdf35"
      },
      "outputs": [
        {
          "output_type": "stream",
          "name": "stdout",
          "text": [
            "\n",
            "======== Epoch 1 / 4 ========\n",
            "Training...\n",
            "\n",
            "  Average training loss: 0.46\n",
            "  Training epcoh took: 0:01:05\n",
            "\n",
            "Running Validation...\n",
            "  Accuracy: 0.83\n",
            "\n",
            "======== Epoch 2 / 4 ========\n",
            "Training...\n",
            "\n",
            "  Average training loss: 0.34\n",
            "  Training epcoh took: 0:01:08\n",
            "\n",
            "Running Validation...\n",
            "  Accuracy: 0.83\n",
            "\n",
            "======== Epoch 3 / 4 ========\n",
            "Training...\n",
            "\n",
            "  Average training loss: 0.26\n",
            "  Training epcoh took: 0:01:08\n",
            "\n",
            "Running Validation...\n",
            "  Accuracy: 0.82\n",
            "\n",
            "======== Epoch 4 / 4 ========\n",
            "Training...\n",
            "\n",
            "  Average training loss: 0.19\n",
            "  Training epcoh took: 0:01:09\n",
            "\n",
            "Running Validation...\n",
            "  Accuracy: 0.82\n",
            "\n",
            "Training complete!\n",
            "Total training took 0:05:23 (h:mm:ss)\n"
          ]
        }
      ],
      "source": [
        "seed_val = 42\n",
        "random.seed(seed_val)\n",
        "np.random.seed(seed_val)\n",
        "torch.manual_seed(seed_val)\n",
        "torch.cuda.manual_seed_all(seed_val)\n",
        "training_stats = []\n",
        "# Measure the total training time for the whole run.\n",
        "total_t0 = time.time()\n",
        "# For each epoch...\n",
        "for epoch_i in range(0, epochs):\n",
        "    # ========================================\n",
        "    #               Training\n",
        "    # ========================================\n",
        "    # Perform one full pass over the training set.\n",
        "    print(\"\")\n",
        "    print('======== Epoch {:} / {:} ========'.format(epoch_i + 1, epochs))\n",
        "    print('Training...')\n",
        "    # Measure how long the training epoch takes.\n",
        "    t0 = time.time()\n",
        "    total_train_loss = 0\n",
        "    model.train()\n",
        "    for step, batch in enumerate(train_dataloader):\n",
        "        # Unpack this training batch from our dataloader.\n",
        "        #\n",
        "        # As we unpack the batch, we'll also copy each tensor to the device using the\n",
        "        # `to` method.\n",
        "        #\n",
        "        # `batch` contains three pytorch tensors:\n",
        "        #   [0]: input ids\n",
        "        #   [1]: attention masks\n",
        "        #   [2]: labels\n",
        "        b_input_ids = batch[0].to(device)\n",
        "        b_input_mask = batch[1].to(device)\n",
        "        b_labels = batch[2].to(device)\n",
        "        optimizer.zero_grad()\n",
        "        output = model(b_input_ids,\n",
        "                             attention_mask=b_input_mask,\n",
        "                             labels=b_labels)\n",
        "        loss = output.loss\n",
        "        total_train_loss += loss.item()\n",
        "        # Perform a backward pass to calculate the gradients.\n",
        "        loss.backward()\n",
        "        # Clip the norm of the gradients to 1.0.\n",
        "        # This is to help prevent the \"exploding gradients\" problem.\n",
        "        torch.nn.utils.clip_grad_norm_(model.parameters(), 1.0)\n",
        "        # Update parameters and take a step using the computed gradient.\n",
        "        # The optimizer dictates the \"update rule\"--how the parameters are\n",
        "        # modified based on their gradients, the learning rate, etc.\n",
        "        optimizer.step()\n",
        "        # Update the learning rate.\n",
        "        scheduler.step()\n",
        "\n",
        "    # Calculate the average loss over all of the batches.\n",
        "    avg_train_loss = total_train_loss / len(train_dataloader)\n",
        "\n",
        "    # Measure how long this epoch took.\n",
        "    training_time = format_time(time.time() - t0)\n",
        "    print(\"\")\n",
        "    print(\"  Average training loss: {0:.2f}\".format(avg_train_loss))\n",
        "    print(\"  Training epcoh took: {:}\".format(training_time))\n",
        "    # ========================================\n",
        "    #               Validation\n",
        "    # ========================================\n",
        "    # After the completion of each training epoch, measure our performance on\n",
        "    # our validation set.\n",
        "    print(\"\")\n",
        "    print(\"Running Validation...\")\n",
        "    t0 = time.time()\n",
        "    # Put the model in evaluation mode--the dropout layers behave differently\n",
        "    # during evaluation.\n",
        "    model.eval()\n",
        "    # Tracking variables\n",
        "    total_eval_accuracy = 0\n",
        "    best_eval_accuracy = 0\n",
        "    total_eval_loss = 0\n",
        "    nb_eval_steps = 0\n",
        "    # Evaluate data for one epoch\n",
        "    for batch in validation_dataloader:\n",
        "        b_input_ids = batch[0].to(device)\n",
        "        b_input_mask = batch[1].to(device)\n",
        "        b_labels = batch[2].to(device)\n",
        "        # Tell pytorch not to bother with constructing the compute graph during\n",
        "        # the forward pass, since this is only needed for backprop (training).\n",
        "        with torch.no_grad():\n",
        "            output= model(b_input_ids,\n",
        "                                   attention_mask=b_input_mask,\n",
        "                                   labels=b_labels)\n",
        "        loss = output.loss\n",
        "        total_eval_loss += loss.item()\n",
        "        # Move logits and labels to CPU if we are using GPU\n",
        "        logits = output.logits\n",
        "        logits = logits.detach().cpu().numpy()\n",
        "        label_ids = b_labels.to('cpu').numpy()\n",
        "        # Calculate the accuracy for this batch of test sentences, and\n",
        "        # accumulate it over all batches.\n",
        "        total_eval_accuracy += flat_accuracy(logits, label_ids)\n",
        "    # Report the final accuracy for this validation run.\n",
        "    avg_val_accuracy = total_eval_accuracy / len(validation_dataloader)\n",
        "    print(\"  Accuracy: {0:.2f}\".format(avg_val_accuracy))\n",
        "    # Calculate the average loss over all of the batches.\n",
        "    avg_val_loss = total_eval_loss / len(validation_dataloader)\n",
        "    # Measure how long the validation run took.\n",
        "    validation_time = format_time(time.time() - t0)\n",
        "    if avg_val_accuracy > best_eval_accuracy:\n",
        "        torch.save(model, 'bert_model')\n",
        "        best_eval_accuracy = avg_val_accuracy\n",
        "    #print(\"  Validation Loss: {0:.2f}\".format(avg_val_loss))\n",
        "    #print(\"  Validation took: {:}\".format(validation_time))\n",
        "    # Record all statistics from this epoch.\n",
        "    training_stats.append(\n",
        "        {\n",
        "            'epoch': epoch_i + 1,\n",
        "            'Training Loss': avg_train_loss,\n",
        "            'Valid. Loss': avg_val_loss,\n",
        "            'Valid. Accur.': avg_val_accuracy,\n",
        "            'Training Time': training_time,\n",
        "            'Validation Time': validation_time\n",
        "        }\n",
        "    )\n",
        "print(\"\")\n",
        "print(\"Training complete!\")\n",
        "\n",
        "print(\"Total training took {:} (h:mm:ss)\".format(format_time(time.time()-total_t0)))\n",
        "\n"
      ]
    },
    {
      "cell_type": "markdown",
      "id": "83c0a9a1",
      "metadata": {
        "papermill": {
          "duration": 0.013246,
          "end_time": "2024-02-13T06:43:08.338587",
          "exception": false,
          "start_time": "2024-02-13T06:43:08.325341",
          "status": "completed"
        },
        "tags": [],
        "id": "83c0a9a1"
      },
      "source": [
        "# Loading the best model"
      ]
    },
    {
      "cell_type": "code",
      "execution_count": null,
      "id": "d2b0916a",
      "metadata": {
        "execution": {
          "iopub.execute_input": "2024-02-13T06:43:08.366851Z",
          "iopub.status.busy": "2024-02-13T06:43:08.366109Z",
          "iopub.status.idle": "2024-02-13T06:43:08.570134Z",
          "shell.execute_reply": "2024-02-13T06:43:08.569362Z"
        },
        "papermill": {
          "duration": 0.220569,
          "end_time": "2024-02-13T06:43:08.572552",
          "exception": false,
          "start_time": "2024-02-13T06:43:08.351983",
          "status": "completed"
        },
        "tags": [],
        "id": "d2b0916a"
      },
      "outputs": [],
      "source": [
        "model = torch.load('bert_model', weights_only = False)\n",
        "df_test = pd.read_csv('test.csv')\n",
        "#df_test['text'] = df_test['text'].apply(lambda x:clean_text(x))\n",
        "test_tweets = df_test['text'].values"
      ]
    },
    {
      "cell_type": "markdown",
      "source": [
        "More context on slides"
      ],
      "metadata": {
        "id": "JOPgEkt7ybLX"
      },
      "id": "JOPgEkt7ybLX"
    },
    {
      "cell_type": "code",
      "execution_count": null,
      "id": "46ef1065",
      "metadata": {
        "execution": {
          "iopub.execute_input": "2024-02-13T06:43:08.601629Z",
          "iopub.status.busy": "2024-02-13T06:43:08.601100Z",
          "iopub.status.idle": "2024-02-13T06:43:11.712842Z",
          "shell.execute_reply": "2024-02-13T06:43:11.711839Z"
        },
        "papermill": {
          "duration": 3.128449,
          "end_time": "2024-02-13T06:43:11.714868",
          "exception": false,
          "start_time": "2024-02-13T06:43:08.586419",
          "status": "completed"
        },
        "tags": [],
        "id": "46ef1065"
      },
      "outputs": [],
      "source": [
        "test_input_ids = []\n",
        "test_attention_masks = []\n",
        "for tweet in test_tweets:\n",
        "    encoded_dict = tokenizer.encode_plus(\n",
        "                        tweet,\n",
        "                        add_special_tokens = True,\n",
        "                        max_length = max_len,\n",
        "                        padding = 'max_length',\n",
        "                        return_attention_mask = True,\n",
        "                        return_tensors = 'pt',\n",
        "                   )\n",
        "    test_input_ids.append(encoded_dict['input_ids'])\n",
        "    test_attention_masks.append(encoded_dict['attention_mask'])\n",
        "test_input_ids = torch.cat(test_input_ids, dim=0)\n",
        "test_attention_masks = torch.cat(test_attention_masks, dim=0)"
      ]
    },
    {
      "cell_type": "code",
      "execution_count": null,
      "id": "e4a56983",
      "metadata": {
        "execution": {
          "iopub.execute_input": "2024-02-13T06:43:11.744246Z",
          "iopub.status.busy": "2024-02-13T06:43:11.743673Z",
          "iopub.status.idle": "2024-02-13T06:43:11.748267Z",
          "shell.execute_reply": "2024-02-13T06:43:11.747525Z"
        },
        "papermill": {
          "duration": 0.020905,
          "end_time": "2024-02-13T06:43:11.750203",
          "exception": false,
          "start_time": "2024-02-13T06:43:11.729298",
          "status": "completed"
        },
        "tags": [],
        "id": "e4a56983"
      },
      "outputs": [],
      "source": [
        "test_dataset = TensorDataset(test_input_ids, test_attention_masks)\n",
        "test_dataloader = DataLoader(\n",
        "            test_dataset, # The validation samples.\n",
        "            sampler = SequentialSampler(test_dataset), # Pull out batches sequentially.\n",
        "            batch_size = batch_size # Evaluate with this batch size.\n",
        "        )"
      ]
    },
    {
      "cell_type": "code",
      "execution_count": null,
      "id": "4cf9cf8b",
      "metadata": {
        "execution": {
          "iopub.execute_input": "2024-02-13T06:43:11.778350Z",
          "iopub.status.busy": "2024-02-13T06:43:11.778099Z",
          "iopub.status.idle": "2024-02-13T06:43:16.742236Z",
          "shell.execute_reply": "2024-02-13T06:43:16.741460Z"
        },
        "papermill": {
          "duration": 4.980507,
          "end_time": "2024-02-13T06:43:16.744393",
          "exception": false,
          "start_time": "2024-02-13T06:43:11.763886",
          "status": "completed"
        },
        "tags": [],
        "id": "4cf9cf8b"
      },
      "outputs": [],
      "source": [
        "predictions = []\n",
        "for batch in test_dataloader:\n",
        "        b_input_ids = batch[0].to(device)\n",
        "        b_input_mask = batch[1].to(device)\n",
        "        with torch.no_grad():\n",
        "            output= model(b_input_ids,\n",
        "                                   attention_mask=b_input_mask)\n",
        "            logits = output.logits\n",
        "            logits = logits.detach().cpu().numpy()\n",
        "            pred_flat = np.argmax(logits, axis=1).flatten()\n",
        "\n",
        "            predictions.extend(list(pred_flat))"
      ]
    },
    {
      "cell_type": "code",
      "execution_count": null,
      "id": "63941dc6",
      "metadata": {
        "execution": {
          "iopub.execute_input": "2024-02-13T06:43:16.774286Z",
          "iopub.status.busy": "2024-02-13T06:43:16.773775Z",
          "iopub.status.idle": "2024-02-13T06:43:16.802980Z",
          "shell.execute_reply": "2024-02-13T06:43:16.802160Z"
        },
        "papermill": {
          "duration": 0.046004,
          "end_time": "2024-02-13T06:43:16.804987",
          "exception": false,
          "start_time": "2024-02-13T06:43:16.758983",
          "status": "completed"
        },
        "tags": [],
        "id": "63941dc6"
      },
      "outputs": [],
      "source": [
        "df_output = pd.DataFrame()\n",
        "df_output['id'] = df_test['id']\n",
        "df_output['target'] =predictions\n",
        "df_output.to_csv('submission_lora.csv',index=False)"
      ]
    },
    {
      "cell_type": "markdown",
      "id": "d8a87e37",
      "metadata": {
        "papermill": {
          "duration": 0.013099,
          "end_time": "2024-02-13T06:43:16.831947",
          "exception": false,
          "start_time": "2024-02-13T06:43:16.818848",
          "status": "completed"
        },
        "tags": [],
        "id": "d8a87e37"
      },
      "source": [
        "## Finetuning the full model and comparison with LoRA based model"
      ]
    },
    {
      "cell_type": "code",
      "execution_count": null,
      "id": "d046dcb3",
      "metadata": {
        "execution": {
          "iopub.execute_input": "2024-02-13T06:43:16.859619Z",
          "iopub.status.busy": "2024-02-13T06:43:16.859314Z",
          "iopub.status.idle": "2024-02-13T06:43:17.293787Z",
          "shell.execute_reply": "2024-02-13T06:43:17.292983Z"
        },
        "papermill": {
          "duration": 0.450719,
          "end_time": "2024-02-13T06:43:17.295866",
          "exception": false,
          "start_time": "2024-02-13T06:43:16.845147",
          "status": "completed"
        },
        "tags": [],
        "colab": {
          "base_uri": "https://localhost:8080/"
        },
        "id": "d046dcb3",
        "outputId": "bcf1faa7-1621-4127-c8ef-5133ee2c3206"
      },
      "outputs": [
        {
          "output_type": "stream",
          "name": "stderr",
          "text": [
            "Some weights of BertForSequenceClassification were not initialized from the model checkpoint at bert-base-uncased and are newly initialized: ['classifier.bias', 'classifier.weight']\n",
            "You should probably TRAIN this model on a down-stream task to be able to use it for predictions and inference.\n"
          ]
        }
      ],
      "source": [
        "base_model = AutoModelForSequenceClassification.from_pretrained(\"bert-base-uncased\", num_labels=2)\n",
        "base_model = base_model.to(device)"
      ]
    },
    {
      "cell_type": "code",
      "execution_count": null,
      "id": "7dadf983",
      "metadata": {
        "execution": {
          "iopub.execute_input": "2024-02-13T06:43:17.324718Z",
          "iopub.status.busy": "2024-02-13T06:43:17.324429Z",
          "iopub.status.idle": "2024-02-13T06:43:17.331351Z",
          "shell.execute_reply": "2024-02-13T06:43:17.330441Z"
        },
        "papermill": {
          "duration": 0.023512,
          "end_time": "2024-02-13T06:43:17.333333",
          "exception": false,
          "start_time": "2024-02-13T06:43:17.309821",
          "status": "completed"
        },
        "tags": [],
        "id": "7dadf983"
      },
      "outputs": [],
      "source": [
        "optimizer = torch.optim.AdamW(base_model.parameters(),\n",
        "                  lr = 2e-5, # args.learning_rate - default is 5e-5, our notebook had 2e-5\n",
        "                  eps = 1e-8 # args.adam_epsilon  - default is 1e-8.\n",
        "                )"
      ]
    },
    {
      "cell_type": "code",
      "execution_count": null,
      "id": "0f09e6bf",
      "metadata": {
        "execution": {
          "iopub.execute_input": "2024-02-13T06:43:17.361707Z",
          "iopub.status.busy": "2024-02-13T06:43:17.361380Z",
          "iopub.status.idle": "2024-02-13T06:45:09.083066Z",
          "shell.execute_reply": "2024-02-13T06:45:09.082109Z"
        },
        "papermill": {
          "duration": 111.739584,
          "end_time": "2024-02-13T06:45:09.086470",
          "exception": false,
          "start_time": "2024-02-13T06:43:17.346886",
          "status": "completed"
        },
        "tags": [],
        "colab": {
          "base_uri": "https://localhost:8080/"
        },
        "id": "0f09e6bf",
        "outputId": "da107c1d-14b6-46d1-dd8c-514c0cfb90ce"
      },
      "outputs": [
        {
          "output_type": "stream",
          "name": "stdout",
          "text": [
            "\n",
            "======== Epoch 1 / 4 ========\n",
            "Training...\n",
            "\n",
            "  Average training loss: 0.45\n",
            "  Training epcoh took: 0:01:23\n",
            "\n",
            "Running Validation...\n",
            "  Accuracy: 0.83\n",
            "\n",
            "======== Epoch 2 / 4 ========\n",
            "Training...\n",
            "\n",
            "  Average training loss: 0.33\n",
            "  Training epcoh took: 0:01:23\n",
            "\n",
            "Running Validation...\n",
            "  Accuracy: 0.83\n",
            "\n",
            "======== Epoch 3 / 4 ========\n",
            "Training...\n",
            "\n",
            "  Average training loss: 0.24\n",
            "  Training epcoh took: 0:01:23\n",
            "\n",
            "Running Validation...\n",
            "  Accuracy: 0.83\n",
            "\n",
            "======== Epoch 4 / 4 ========\n",
            "Training...\n",
            "\n",
            "  Average training loss: 0.18\n",
            "  Training epcoh took: 0:01:23\n",
            "\n",
            "Running Validation...\n",
            "  Accuracy: 0.83\n",
            "\n",
            "Training complete!\n",
            "Total training took 0:06:24 (h:mm:ss)\n"
          ]
        }
      ],
      "source": [
        "seed_val = 42\n",
        "random.seed(seed_val)\n",
        "np.random.seed(seed_val)\n",
        "torch.manual_seed(seed_val)\n",
        "torch.cuda.manual_seed_all(seed_val)\n",
        "training_stats = []\n",
        "\n",
        "# Measure the total training time for the whole run.\n",
        "total_t0 = time.time()\n",
        "\n",
        "# For each epoch...\n",
        "for epoch_i in range(0, epochs):\n",
        "    # ========================================\n",
        "    #               Training\n",
        "    # ========================================\n",
        "    # Perform one full pass over the training set.\n",
        "    print(\"\")\n",
        "    print('======== Epoch {:} / {:} ========'.format(epoch_i + 1, epochs))\n",
        "    print('Training...')\n",
        "    # Measure how long the training epoch takes.\n",
        "    t0 = time.time()\n",
        "    total_train_loss = 0\n",
        "    base_model.train()\n",
        "    for step, batch in enumerate(train_dataloader):\n",
        "        # Unpack this training batch from our dataloader.\n",
        "        #\n",
        "        # As we unpack the batch, we'll also copy each tensor to the device using the\n",
        "        # `to` method.\n",
        "        #\n",
        "        # `batch` contains three pytorch tensors:\n",
        "        #   [0]: input ids\n",
        "        #   [1]: attention masks\n",
        "        #   [2]: labels\n",
        "        b_input_ids = batch[0].to(device)\n",
        "        b_input_mask = batch[1].to(device)\n",
        "        b_labels = batch[2].to(device)\n",
        "        optimizer.zero_grad()\n",
        "        output = base_model(b_input_ids,\n",
        "                             attention_mask=b_input_mask,\n",
        "                             labels=b_labels)\n",
        "        loss = output.loss\n",
        "        total_train_loss += loss.item()\n",
        "        # Perform a backward pass to calculate the gradients.\n",
        "        loss.backward()\n",
        "        # Clip the norm of the gradients to 1.0.\n",
        "        # This is to help prevent the \"exploding gradients\" problem.\n",
        "        torch.nn.utils.clip_grad_norm_(base_model.parameters(), 1.0)\n",
        "        # Update parameters and take a step using the computed gradient.\n",
        "        # The optimizer dictates the \"update rule\"--how the parameters are\n",
        "        # modified based on their gradients, the learning rate, etc.\n",
        "        optimizer.step()\n",
        "        # Update the learning rate.\n",
        "        scheduler.step()\n",
        "\n",
        "    # Calculate the average loss over all of the batches.\n",
        "    avg_train_loss = total_train_loss / len(train_dataloader)\n",
        "\n",
        "    # Measure how long this epoch took.\n",
        "    training_time = format_time(time.time() - t0)\n",
        "    print(\"\")\n",
        "    print(\"  Average training loss: {0:.2f}\".format(avg_train_loss))\n",
        "    print(\"  Training epcoh took: {:}\".format(training_time))\n",
        "    # ========================================\n",
        "    #               Validation\n",
        "    # ========================================\n",
        "    # After the completion of each training epoch, measure our performance on\n",
        "    # our validation set.\n",
        "    print(\"\")\n",
        "    print(\"Running Validation...\")\n",
        "    t0 = time.time()\n",
        "    # Put the base_model in evaluation mode--the dropout layers behave differently\n",
        "    # during evaluation.\n",
        "    base_model.eval()\n",
        "    # Tracking variables\n",
        "    total_eval_accuracy = 0\n",
        "    best_eval_accuracy = 0\n",
        "    total_eval_loss = 0\n",
        "    nb_eval_steps = 0\n",
        "    # Evaluate data for one epoch\n",
        "    for batch in validation_dataloader:\n",
        "        b_input_ids = batch[0].to(device)\n",
        "        b_input_mask = batch[1].to(device)\n",
        "        b_labels = batch[2].to(device)\n",
        "        # Tell pytorch not to bother with constructing the compute graph during\n",
        "        # the forward pass, since this is only needed for backprop (training).\n",
        "        with torch.no_grad():\n",
        "            output= base_model(b_input_ids,\n",
        "                                   attention_mask=b_input_mask,\n",
        "                                   labels=b_labels)\n",
        "        loss = output.loss\n",
        "        total_eval_loss += loss.item()\n",
        "        # Move logits and labels to CPU if we are using GPU\n",
        "        logits = output.logits\n",
        "        logits = logits.detach().cpu().numpy()\n",
        "        label_ids = b_labels.to('cpu').numpy()\n",
        "        # Calculate the accuracy for this batch of test sentences, and\n",
        "        # accumulate it over all batches.\n",
        "        total_eval_accuracy += flat_accuracy(logits, label_ids)\n",
        "    # Report the final accuracy for this validation run.\n",
        "    avg_val_accuracy = total_eval_accuracy / len(validation_dataloader)\n",
        "    print(\"  Accuracy: {0:.2f}\".format(avg_val_accuracy))\n",
        "    # Calculate the average loss over all of the batches.\n",
        "    avg_val_loss = total_eval_loss / len(validation_dataloader)\n",
        "    # Measure how long the validation run took.\n",
        "    validation_time = format_time(time.time() - t0)\n",
        "    if avg_val_accuracy > best_eval_accuracy:\n",
        "        torch.save(base_model, 'bert_base_model')\n",
        "        best_eval_accuracy = avg_val_accuracy\n",
        "    #print(\"  Validation Loss: {0:.2f}\".format(avg_val_loss))\n",
        "    #print(\"  Validation took: {:}\".format(validation_time))\n",
        "    # Record all statistics from this epoch.\n",
        "    training_stats.append(\n",
        "        {\n",
        "            'epoch': epoch_i + 1,\n",
        "            'Training Loss': avg_train_loss,\n",
        "            'Valid. Loss': avg_val_loss,\n",
        "            'Valid. Accur.': avg_val_accuracy,\n",
        "            'Training Time': training_time,\n",
        "            'Validation Time': validation_time\n",
        "        }\n",
        "    )\n",
        "print(\"\")\n",
        "print(\"Training complete!\")\n",
        "\n",
        "print(\"Total training took {:} (h:mm:ss)\".format(format_time(time.time()-total_t0)))"
      ]
    },
    {
      "cell_type": "markdown",
      "id": "230234a7",
      "metadata": {
        "papermill": {
          "duration": 0.014638,
          "end_time": "2024-02-13T06:45:09.117931",
          "exception": false,
          "start_time": "2024-02-13T06:45:09.103293",
          "status": "completed"
        },
        "tags": [],
        "id": "230234a7"
      },
      "source": [
        "[](http://)"
      ]
    },
    {
      "cell_type": "code",
      "source": [],
      "metadata": {
        "id": "-xKGYvExKXxA"
      },
      "id": "-xKGYvExKXxA",
      "execution_count": null,
      "outputs": []
    }
  ],
  "metadata": {
    "kaggle": {
      "accelerator": "gpu",
      "dataSources": [
        {
          "databundleVersionId": 869809,
          "sourceId": 17777,
          "sourceType": "competition"
        }
      ],
      "dockerImageVersionId": 30636,
      "isGpuEnabled": true,
      "isInternetEnabled": true,
      "language": "python",
      "sourceType": "notebook"
    },
    "kernelspec": {
      "display_name": "Python 3",
      "name": "python3"
    },
    "language_info": {
      "codemirror_mode": {
        "name": "ipython",
        "version": 3
      },
      "file_extension": ".py",
      "mimetype": "text/x-python",
      "name": "python",
      "nbconvert_exporter": "python",
      "pygments_lexer": "ipython3",
      "version": "3.10.12"
    },
    "papermill": {
      "default_parameters": {},
      "duration": 255.471516,
      "end_time": "2024-02-13T06:45:11.424379",
      "environment_variables": {},
      "exception": null,
      "input_path": "__notebook__.ipynb",
      "output_path": "__notebook__.ipynb",
      "parameters": {},
      "start_time": "2024-02-13T06:40:55.952863",
      "version": "2.4.0"
    },
    "widgets": {
      "application/vnd.jupyter.widget-state+json": {
        "020e168769334b8eb3a5e10ff2755f2d": {
          "model_module": "@jupyter-widgets/controls",
          "model_name": "HBoxModel",
          "model_module_version": "1.5.0",
          "state": {
            "_dom_classes": [],
            "_model_module": "@jupyter-widgets/controls",
            "_model_module_version": "1.5.0",
            "_model_name": "HBoxModel",
            "_view_count": null,
            "_view_module": "@jupyter-widgets/controls",
            "_view_module_version": "1.5.0",
            "_view_name": "HBoxView",
            "box_style": "",
            "children": [
              "IPY_MODEL_a1def721afde459ca8be978e783cbee0",
              "IPY_MODEL_0af769b573a24f74b2586ddb6acc0b76",
              "IPY_MODEL_06c641a041844ef8a9b43f0f9be8b81d"
            ],
            "layout": "IPY_MODEL_ce7c44d5d512401e91704fa2b290b4e0"
          }
        },
        "a1def721afde459ca8be978e783cbee0": {
          "model_module": "@jupyter-widgets/controls",
          "model_name": "HTMLModel",
          "model_module_version": "1.5.0",
          "state": {
            "_dom_classes": [],
            "_model_module": "@jupyter-widgets/controls",
            "_model_module_version": "1.5.0",
            "_model_name": "HTMLModel",
            "_view_count": null,
            "_view_module": "@jupyter-widgets/controls",
            "_view_module_version": "1.5.0",
            "_view_name": "HTMLView",
            "description": "",
            "description_tooltip": null,
            "layout": "IPY_MODEL_319ff5cb37f7474d9638439259f3b585",
            "placeholder": "​",
            "style": "IPY_MODEL_a9e04826cc8f4f1c9b053fa1545c6ccd",
            "value": "config.json: 100%"
          }
        },
        "0af769b573a24f74b2586ddb6acc0b76": {
          "model_module": "@jupyter-widgets/controls",
          "model_name": "FloatProgressModel",
          "model_module_version": "1.5.0",
          "state": {
            "_dom_classes": [],
            "_model_module": "@jupyter-widgets/controls",
            "_model_module_version": "1.5.0",
            "_model_name": "FloatProgressModel",
            "_view_count": null,
            "_view_module": "@jupyter-widgets/controls",
            "_view_module_version": "1.5.0",
            "_view_name": "ProgressView",
            "bar_style": "success",
            "description": "",
            "description_tooltip": null,
            "layout": "IPY_MODEL_1d1e4d430e3a41acafeef24463ad5c11",
            "max": 570,
            "min": 0,
            "orientation": "horizontal",
            "style": "IPY_MODEL_6c2cc0be270c4fcbbf096765cf628bce",
            "value": 570
          }
        },
        "06c641a041844ef8a9b43f0f9be8b81d": {
          "model_module": "@jupyter-widgets/controls",
          "model_name": "HTMLModel",
          "model_module_version": "1.5.0",
          "state": {
            "_dom_classes": [],
            "_model_module": "@jupyter-widgets/controls",
            "_model_module_version": "1.5.0",
            "_model_name": "HTMLModel",
            "_view_count": null,
            "_view_module": "@jupyter-widgets/controls",
            "_view_module_version": "1.5.0",
            "_view_name": "HTMLView",
            "description": "",
            "description_tooltip": null,
            "layout": "IPY_MODEL_3ea25b1066d84bdea8fa730d28666c69",
            "placeholder": "​",
            "style": "IPY_MODEL_ae0052d5fff245c48b9225b2a3aeee10",
            "value": " 570/570 [00:00&lt;00:00, 57.5kB/s]"
          }
        },
        "ce7c44d5d512401e91704fa2b290b4e0": {
          "model_module": "@jupyter-widgets/base",
          "model_name": "LayoutModel",
          "model_module_version": "1.2.0",
          "state": {
            "_model_module": "@jupyter-widgets/base",
            "_model_module_version": "1.2.0",
            "_model_name": "LayoutModel",
            "_view_count": null,
            "_view_module": "@jupyter-widgets/base",
            "_view_module_version": "1.2.0",
            "_view_name": "LayoutView",
            "align_content": null,
            "align_items": null,
            "align_self": null,
            "border": null,
            "bottom": null,
            "display": null,
            "flex": null,
            "flex_flow": null,
            "grid_area": null,
            "grid_auto_columns": null,
            "grid_auto_flow": null,
            "grid_auto_rows": null,
            "grid_column": null,
            "grid_gap": null,
            "grid_row": null,
            "grid_template_areas": null,
            "grid_template_columns": null,
            "grid_template_rows": null,
            "height": null,
            "justify_content": null,
            "justify_items": null,
            "left": null,
            "margin": null,
            "max_height": null,
            "max_width": null,
            "min_height": null,
            "min_width": null,
            "object_fit": null,
            "object_position": null,
            "order": null,
            "overflow": null,
            "overflow_x": null,
            "overflow_y": null,
            "padding": null,
            "right": null,
            "top": null,
            "visibility": null,
            "width": null
          }
        },
        "319ff5cb37f7474d9638439259f3b585": {
          "model_module": "@jupyter-widgets/base",
          "model_name": "LayoutModel",
          "model_module_version": "1.2.0",
          "state": {
            "_model_module": "@jupyter-widgets/base",
            "_model_module_version": "1.2.0",
            "_model_name": "LayoutModel",
            "_view_count": null,
            "_view_module": "@jupyter-widgets/base",
            "_view_module_version": "1.2.0",
            "_view_name": "LayoutView",
            "align_content": null,
            "align_items": null,
            "align_self": null,
            "border": null,
            "bottom": null,
            "display": null,
            "flex": null,
            "flex_flow": null,
            "grid_area": null,
            "grid_auto_columns": null,
            "grid_auto_flow": null,
            "grid_auto_rows": null,
            "grid_column": null,
            "grid_gap": null,
            "grid_row": null,
            "grid_template_areas": null,
            "grid_template_columns": null,
            "grid_template_rows": null,
            "height": null,
            "justify_content": null,
            "justify_items": null,
            "left": null,
            "margin": null,
            "max_height": null,
            "max_width": null,
            "min_height": null,
            "min_width": null,
            "object_fit": null,
            "object_position": null,
            "order": null,
            "overflow": null,
            "overflow_x": null,
            "overflow_y": null,
            "padding": null,
            "right": null,
            "top": null,
            "visibility": null,
            "width": null
          }
        },
        "a9e04826cc8f4f1c9b053fa1545c6ccd": {
          "model_module": "@jupyter-widgets/controls",
          "model_name": "DescriptionStyleModel",
          "model_module_version": "1.5.0",
          "state": {
            "_model_module": "@jupyter-widgets/controls",
            "_model_module_version": "1.5.0",
            "_model_name": "DescriptionStyleModel",
            "_view_count": null,
            "_view_module": "@jupyter-widgets/base",
            "_view_module_version": "1.2.0",
            "_view_name": "StyleView",
            "description_width": ""
          }
        },
        "1d1e4d430e3a41acafeef24463ad5c11": {
          "model_module": "@jupyter-widgets/base",
          "model_name": "LayoutModel",
          "model_module_version": "1.2.0",
          "state": {
            "_model_module": "@jupyter-widgets/base",
            "_model_module_version": "1.2.0",
            "_model_name": "LayoutModel",
            "_view_count": null,
            "_view_module": "@jupyter-widgets/base",
            "_view_module_version": "1.2.0",
            "_view_name": "LayoutView",
            "align_content": null,
            "align_items": null,
            "align_self": null,
            "border": null,
            "bottom": null,
            "display": null,
            "flex": null,
            "flex_flow": null,
            "grid_area": null,
            "grid_auto_columns": null,
            "grid_auto_flow": null,
            "grid_auto_rows": null,
            "grid_column": null,
            "grid_gap": null,
            "grid_row": null,
            "grid_template_areas": null,
            "grid_template_columns": null,
            "grid_template_rows": null,
            "height": null,
            "justify_content": null,
            "justify_items": null,
            "left": null,
            "margin": null,
            "max_height": null,
            "max_width": null,
            "min_height": null,
            "min_width": null,
            "object_fit": null,
            "object_position": null,
            "order": null,
            "overflow": null,
            "overflow_x": null,
            "overflow_y": null,
            "padding": null,
            "right": null,
            "top": null,
            "visibility": null,
            "width": null
          }
        },
        "6c2cc0be270c4fcbbf096765cf628bce": {
          "model_module": "@jupyter-widgets/controls",
          "model_name": "ProgressStyleModel",
          "model_module_version": "1.5.0",
          "state": {
            "_model_module": "@jupyter-widgets/controls",
            "_model_module_version": "1.5.0",
            "_model_name": "ProgressStyleModel",
            "_view_count": null,
            "_view_module": "@jupyter-widgets/base",
            "_view_module_version": "1.2.0",
            "_view_name": "StyleView",
            "bar_color": null,
            "description_width": ""
          }
        },
        "3ea25b1066d84bdea8fa730d28666c69": {
          "model_module": "@jupyter-widgets/base",
          "model_name": "LayoutModel",
          "model_module_version": "1.2.0",
          "state": {
            "_model_module": "@jupyter-widgets/base",
            "_model_module_version": "1.2.0",
            "_model_name": "LayoutModel",
            "_view_count": null,
            "_view_module": "@jupyter-widgets/base",
            "_view_module_version": "1.2.0",
            "_view_name": "LayoutView",
            "align_content": null,
            "align_items": null,
            "align_self": null,
            "border": null,
            "bottom": null,
            "display": null,
            "flex": null,
            "flex_flow": null,
            "grid_area": null,
            "grid_auto_columns": null,
            "grid_auto_flow": null,
            "grid_auto_rows": null,
            "grid_column": null,
            "grid_gap": null,
            "grid_row": null,
            "grid_template_areas": null,
            "grid_template_columns": null,
            "grid_template_rows": null,
            "height": null,
            "justify_content": null,
            "justify_items": null,
            "left": null,
            "margin": null,
            "max_height": null,
            "max_width": null,
            "min_height": null,
            "min_width": null,
            "object_fit": null,
            "object_position": null,
            "order": null,
            "overflow": null,
            "overflow_x": null,
            "overflow_y": null,
            "padding": null,
            "right": null,
            "top": null,
            "visibility": null,
            "width": null
          }
        },
        "ae0052d5fff245c48b9225b2a3aeee10": {
          "model_module": "@jupyter-widgets/controls",
          "model_name": "DescriptionStyleModel",
          "model_module_version": "1.5.0",
          "state": {
            "_model_module": "@jupyter-widgets/controls",
            "_model_module_version": "1.5.0",
            "_model_name": "DescriptionStyleModel",
            "_view_count": null,
            "_view_module": "@jupyter-widgets/base",
            "_view_module_version": "1.2.0",
            "_view_name": "StyleView",
            "description_width": ""
          }
        },
        "879938886e574550be0470277ed74171": {
          "model_module": "@jupyter-widgets/controls",
          "model_name": "HBoxModel",
          "model_module_version": "1.5.0",
          "state": {
            "_dom_classes": [],
            "_model_module": "@jupyter-widgets/controls",
            "_model_module_version": "1.5.0",
            "_model_name": "HBoxModel",
            "_view_count": null,
            "_view_module": "@jupyter-widgets/controls",
            "_view_module_version": "1.5.0",
            "_view_name": "HBoxView",
            "box_style": "",
            "children": [
              "IPY_MODEL_8520b88c24134157950deee837396073",
              "IPY_MODEL_3cea53f1d32c47b1a095d12f85870bc4",
              "IPY_MODEL_510f5b175fd1484d91319d6e9eeca2be"
            ],
            "layout": "IPY_MODEL_e70f679b5e52465b80855ca8454a97f9"
          }
        },
        "8520b88c24134157950deee837396073": {
          "model_module": "@jupyter-widgets/controls",
          "model_name": "HTMLModel",
          "model_module_version": "1.5.0",
          "state": {
            "_dom_classes": [],
            "_model_module": "@jupyter-widgets/controls",
            "_model_module_version": "1.5.0",
            "_model_name": "HTMLModel",
            "_view_count": null,
            "_view_module": "@jupyter-widgets/controls",
            "_view_module_version": "1.5.0",
            "_view_name": "HTMLView",
            "description": "",
            "description_tooltip": null,
            "layout": "IPY_MODEL_4e78ede9b4694b0195c69479a4e92144",
            "placeholder": "​",
            "style": "IPY_MODEL_dd32592b0ce645a78c844a1adcd4e843",
            "value": "model.safetensors: 100%"
          }
        },
        "3cea53f1d32c47b1a095d12f85870bc4": {
          "model_module": "@jupyter-widgets/controls",
          "model_name": "FloatProgressModel",
          "model_module_version": "1.5.0",
          "state": {
            "_dom_classes": [],
            "_model_module": "@jupyter-widgets/controls",
            "_model_module_version": "1.5.0",
            "_model_name": "FloatProgressModel",
            "_view_count": null,
            "_view_module": "@jupyter-widgets/controls",
            "_view_module_version": "1.5.0",
            "_view_name": "ProgressView",
            "bar_style": "success",
            "description": "",
            "description_tooltip": null,
            "layout": "IPY_MODEL_02dadbd94b3d4965b0134c904aa5fd41",
            "max": 440449768,
            "min": 0,
            "orientation": "horizontal",
            "style": "IPY_MODEL_e0803100c5c54b0195550ec19d191896",
            "value": 440449768
          }
        },
        "510f5b175fd1484d91319d6e9eeca2be": {
          "model_module": "@jupyter-widgets/controls",
          "model_name": "HTMLModel",
          "model_module_version": "1.5.0",
          "state": {
            "_dom_classes": [],
            "_model_module": "@jupyter-widgets/controls",
            "_model_module_version": "1.5.0",
            "_model_name": "HTMLModel",
            "_view_count": null,
            "_view_module": "@jupyter-widgets/controls",
            "_view_module_version": "1.5.0",
            "_view_name": "HTMLView",
            "description": "",
            "description_tooltip": null,
            "layout": "IPY_MODEL_5e52b14fc81c41ff85dad92c04f58a7d",
            "placeholder": "​",
            "style": "IPY_MODEL_2b93aefe4669405d8d44ebfb15780a44",
            "value": " 440M/440M [00:06&lt;00:00, 70.4MB/s]"
          }
        },
        "e70f679b5e52465b80855ca8454a97f9": {
          "model_module": "@jupyter-widgets/base",
          "model_name": "LayoutModel",
          "model_module_version": "1.2.0",
          "state": {
            "_model_module": "@jupyter-widgets/base",
            "_model_module_version": "1.2.0",
            "_model_name": "LayoutModel",
            "_view_count": null,
            "_view_module": "@jupyter-widgets/base",
            "_view_module_version": "1.2.0",
            "_view_name": "LayoutView",
            "align_content": null,
            "align_items": null,
            "align_self": null,
            "border": null,
            "bottom": null,
            "display": null,
            "flex": null,
            "flex_flow": null,
            "grid_area": null,
            "grid_auto_columns": null,
            "grid_auto_flow": null,
            "grid_auto_rows": null,
            "grid_column": null,
            "grid_gap": null,
            "grid_row": null,
            "grid_template_areas": null,
            "grid_template_columns": null,
            "grid_template_rows": null,
            "height": null,
            "justify_content": null,
            "justify_items": null,
            "left": null,
            "margin": null,
            "max_height": null,
            "max_width": null,
            "min_height": null,
            "min_width": null,
            "object_fit": null,
            "object_position": null,
            "order": null,
            "overflow": null,
            "overflow_x": null,
            "overflow_y": null,
            "padding": null,
            "right": null,
            "top": null,
            "visibility": null,
            "width": null
          }
        },
        "4e78ede9b4694b0195c69479a4e92144": {
          "model_module": "@jupyter-widgets/base",
          "model_name": "LayoutModel",
          "model_module_version": "1.2.0",
          "state": {
            "_model_module": "@jupyter-widgets/base",
            "_model_module_version": "1.2.0",
            "_model_name": "LayoutModel",
            "_view_count": null,
            "_view_module": "@jupyter-widgets/base",
            "_view_module_version": "1.2.0",
            "_view_name": "LayoutView",
            "align_content": null,
            "align_items": null,
            "align_self": null,
            "border": null,
            "bottom": null,
            "display": null,
            "flex": null,
            "flex_flow": null,
            "grid_area": null,
            "grid_auto_columns": null,
            "grid_auto_flow": null,
            "grid_auto_rows": null,
            "grid_column": null,
            "grid_gap": null,
            "grid_row": null,
            "grid_template_areas": null,
            "grid_template_columns": null,
            "grid_template_rows": null,
            "height": null,
            "justify_content": null,
            "justify_items": null,
            "left": null,
            "margin": null,
            "max_height": null,
            "max_width": null,
            "min_height": null,
            "min_width": null,
            "object_fit": null,
            "object_position": null,
            "order": null,
            "overflow": null,
            "overflow_x": null,
            "overflow_y": null,
            "padding": null,
            "right": null,
            "top": null,
            "visibility": null,
            "width": null
          }
        },
        "dd32592b0ce645a78c844a1adcd4e843": {
          "model_module": "@jupyter-widgets/controls",
          "model_name": "DescriptionStyleModel",
          "model_module_version": "1.5.0",
          "state": {
            "_model_module": "@jupyter-widgets/controls",
            "_model_module_version": "1.5.0",
            "_model_name": "DescriptionStyleModel",
            "_view_count": null,
            "_view_module": "@jupyter-widgets/base",
            "_view_module_version": "1.2.0",
            "_view_name": "StyleView",
            "description_width": ""
          }
        },
        "02dadbd94b3d4965b0134c904aa5fd41": {
          "model_module": "@jupyter-widgets/base",
          "model_name": "LayoutModel",
          "model_module_version": "1.2.0",
          "state": {
            "_model_module": "@jupyter-widgets/base",
            "_model_module_version": "1.2.0",
            "_model_name": "LayoutModel",
            "_view_count": null,
            "_view_module": "@jupyter-widgets/base",
            "_view_module_version": "1.2.0",
            "_view_name": "LayoutView",
            "align_content": null,
            "align_items": null,
            "align_self": null,
            "border": null,
            "bottom": null,
            "display": null,
            "flex": null,
            "flex_flow": null,
            "grid_area": null,
            "grid_auto_columns": null,
            "grid_auto_flow": null,
            "grid_auto_rows": null,
            "grid_column": null,
            "grid_gap": null,
            "grid_row": null,
            "grid_template_areas": null,
            "grid_template_columns": null,
            "grid_template_rows": null,
            "height": null,
            "justify_content": null,
            "justify_items": null,
            "left": null,
            "margin": null,
            "max_height": null,
            "max_width": null,
            "min_height": null,
            "min_width": null,
            "object_fit": null,
            "object_position": null,
            "order": null,
            "overflow": null,
            "overflow_x": null,
            "overflow_y": null,
            "padding": null,
            "right": null,
            "top": null,
            "visibility": null,
            "width": null
          }
        },
        "e0803100c5c54b0195550ec19d191896": {
          "model_module": "@jupyter-widgets/controls",
          "model_name": "ProgressStyleModel",
          "model_module_version": "1.5.0",
          "state": {
            "_model_module": "@jupyter-widgets/controls",
            "_model_module_version": "1.5.0",
            "_model_name": "ProgressStyleModel",
            "_view_count": null,
            "_view_module": "@jupyter-widgets/base",
            "_view_module_version": "1.2.0",
            "_view_name": "StyleView",
            "bar_color": null,
            "description_width": ""
          }
        },
        "5e52b14fc81c41ff85dad92c04f58a7d": {
          "model_module": "@jupyter-widgets/base",
          "model_name": "LayoutModel",
          "model_module_version": "1.2.0",
          "state": {
            "_model_module": "@jupyter-widgets/base",
            "_model_module_version": "1.2.0",
            "_model_name": "LayoutModel",
            "_view_count": null,
            "_view_module": "@jupyter-widgets/base",
            "_view_module_version": "1.2.0",
            "_view_name": "LayoutView",
            "align_content": null,
            "align_items": null,
            "align_self": null,
            "border": null,
            "bottom": null,
            "display": null,
            "flex": null,
            "flex_flow": null,
            "grid_area": null,
            "grid_auto_columns": null,
            "grid_auto_flow": null,
            "grid_auto_rows": null,
            "grid_column": null,
            "grid_gap": null,
            "grid_row": null,
            "grid_template_areas": null,
            "grid_template_columns": null,
            "grid_template_rows": null,
            "height": null,
            "justify_content": null,
            "justify_items": null,
            "left": null,
            "margin": null,
            "max_height": null,
            "max_width": null,
            "min_height": null,
            "min_width": null,
            "object_fit": null,
            "object_position": null,
            "order": null,
            "overflow": null,
            "overflow_x": null,
            "overflow_y": null,
            "padding": null,
            "right": null,
            "top": null,
            "visibility": null,
            "width": null
          }
        },
        "2b93aefe4669405d8d44ebfb15780a44": {
          "model_module": "@jupyter-widgets/controls",
          "model_name": "DescriptionStyleModel",
          "model_module_version": "1.5.0",
          "state": {
            "_model_module": "@jupyter-widgets/controls",
            "_model_module_version": "1.5.0",
            "_model_name": "DescriptionStyleModel",
            "_view_count": null,
            "_view_module": "@jupyter-widgets/base",
            "_view_module_version": "1.2.0",
            "_view_name": "StyleView",
            "description_width": ""
          }
        },
        "8bbe04d42bac480b80eab8ee44a46d3f": {
          "model_module": "@jupyter-widgets/controls",
          "model_name": "HBoxModel",
          "model_module_version": "1.5.0",
          "state": {
            "_dom_classes": [],
            "_model_module": "@jupyter-widgets/controls",
            "_model_module_version": "1.5.0",
            "_model_name": "HBoxModel",
            "_view_count": null,
            "_view_module": "@jupyter-widgets/controls",
            "_view_module_version": "1.5.0",
            "_view_name": "HBoxView",
            "box_style": "",
            "children": [
              "IPY_MODEL_b22e367d15964a58a09eb8a030256383",
              "IPY_MODEL_d69ee3af2a6e4824ab66d9297342074a",
              "IPY_MODEL_5191604a30504682a4e5fc020b5ec829"
            ],
            "layout": "IPY_MODEL_de586c528b694c0681adf67e16a22fd2"
          }
        },
        "b22e367d15964a58a09eb8a030256383": {
          "model_module": "@jupyter-widgets/controls",
          "model_name": "HTMLModel",
          "model_module_version": "1.5.0",
          "state": {
            "_dom_classes": [],
            "_model_module": "@jupyter-widgets/controls",
            "_model_module_version": "1.5.0",
            "_model_name": "HTMLModel",
            "_view_count": null,
            "_view_module": "@jupyter-widgets/controls",
            "_view_module_version": "1.5.0",
            "_view_name": "HTMLView",
            "description": "",
            "description_tooltip": null,
            "layout": "IPY_MODEL_3f29e5c3b14046dd9994e9d5fa50ba1a",
            "placeholder": "​",
            "style": "IPY_MODEL_ed636c115e9645dc9543b6ab4c780250",
            "value": "tokenizer_config.json: 100%"
          }
        },
        "d69ee3af2a6e4824ab66d9297342074a": {
          "model_module": "@jupyter-widgets/controls",
          "model_name": "FloatProgressModel",
          "model_module_version": "1.5.0",
          "state": {
            "_dom_classes": [],
            "_model_module": "@jupyter-widgets/controls",
            "_model_module_version": "1.5.0",
            "_model_name": "FloatProgressModel",
            "_view_count": null,
            "_view_module": "@jupyter-widgets/controls",
            "_view_module_version": "1.5.0",
            "_view_name": "ProgressView",
            "bar_style": "success",
            "description": "",
            "description_tooltip": null,
            "layout": "IPY_MODEL_92ecfa19edb546bf893ed4761df02b02",
            "max": 48,
            "min": 0,
            "orientation": "horizontal",
            "style": "IPY_MODEL_33608ac4dc8541df9cdede816a5d320c",
            "value": 48
          }
        },
        "5191604a30504682a4e5fc020b5ec829": {
          "model_module": "@jupyter-widgets/controls",
          "model_name": "HTMLModel",
          "model_module_version": "1.5.0",
          "state": {
            "_dom_classes": [],
            "_model_module": "@jupyter-widgets/controls",
            "_model_module_version": "1.5.0",
            "_model_name": "HTMLModel",
            "_view_count": null,
            "_view_module": "@jupyter-widgets/controls",
            "_view_module_version": "1.5.0",
            "_view_name": "HTMLView",
            "description": "",
            "description_tooltip": null,
            "layout": "IPY_MODEL_798688f2219f44bcb72c8e4c9bd92b23",
            "placeholder": "​",
            "style": "IPY_MODEL_200ca4e9312c452c9eecd940c1cce837",
            "value": " 48.0/48.0 [00:00&lt;00:00, 1.86kB/s]"
          }
        },
        "de586c528b694c0681adf67e16a22fd2": {
          "model_module": "@jupyter-widgets/base",
          "model_name": "LayoutModel",
          "model_module_version": "1.2.0",
          "state": {
            "_model_module": "@jupyter-widgets/base",
            "_model_module_version": "1.2.0",
            "_model_name": "LayoutModel",
            "_view_count": null,
            "_view_module": "@jupyter-widgets/base",
            "_view_module_version": "1.2.0",
            "_view_name": "LayoutView",
            "align_content": null,
            "align_items": null,
            "align_self": null,
            "border": null,
            "bottom": null,
            "display": null,
            "flex": null,
            "flex_flow": null,
            "grid_area": null,
            "grid_auto_columns": null,
            "grid_auto_flow": null,
            "grid_auto_rows": null,
            "grid_column": null,
            "grid_gap": null,
            "grid_row": null,
            "grid_template_areas": null,
            "grid_template_columns": null,
            "grid_template_rows": null,
            "height": null,
            "justify_content": null,
            "justify_items": null,
            "left": null,
            "margin": null,
            "max_height": null,
            "max_width": null,
            "min_height": null,
            "min_width": null,
            "object_fit": null,
            "object_position": null,
            "order": null,
            "overflow": null,
            "overflow_x": null,
            "overflow_y": null,
            "padding": null,
            "right": null,
            "top": null,
            "visibility": null,
            "width": null
          }
        },
        "3f29e5c3b14046dd9994e9d5fa50ba1a": {
          "model_module": "@jupyter-widgets/base",
          "model_name": "LayoutModel",
          "model_module_version": "1.2.0",
          "state": {
            "_model_module": "@jupyter-widgets/base",
            "_model_module_version": "1.2.0",
            "_model_name": "LayoutModel",
            "_view_count": null,
            "_view_module": "@jupyter-widgets/base",
            "_view_module_version": "1.2.0",
            "_view_name": "LayoutView",
            "align_content": null,
            "align_items": null,
            "align_self": null,
            "border": null,
            "bottom": null,
            "display": null,
            "flex": null,
            "flex_flow": null,
            "grid_area": null,
            "grid_auto_columns": null,
            "grid_auto_flow": null,
            "grid_auto_rows": null,
            "grid_column": null,
            "grid_gap": null,
            "grid_row": null,
            "grid_template_areas": null,
            "grid_template_columns": null,
            "grid_template_rows": null,
            "height": null,
            "justify_content": null,
            "justify_items": null,
            "left": null,
            "margin": null,
            "max_height": null,
            "max_width": null,
            "min_height": null,
            "min_width": null,
            "object_fit": null,
            "object_position": null,
            "order": null,
            "overflow": null,
            "overflow_x": null,
            "overflow_y": null,
            "padding": null,
            "right": null,
            "top": null,
            "visibility": null,
            "width": null
          }
        },
        "ed636c115e9645dc9543b6ab4c780250": {
          "model_module": "@jupyter-widgets/controls",
          "model_name": "DescriptionStyleModel",
          "model_module_version": "1.5.0",
          "state": {
            "_model_module": "@jupyter-widgets/controls",
            "_model_module_version": "1.5.0",
            "_model_name": "DescriptionStyleModel",
            "_view_count": null,
            "_view_module": "@jupyter-widgets/base",
            "_view_module_version": "1.2.0",
            "_view_name": "StyleView",
            "description_width": ""
          }
        },
        "92ecfa19edb546bf893ed4761df02b02": {
          "model_module": "@jupyter-widgets/base",
          "model_name": "LayoutModel",
          "model_module_version": "1.2.0",
          "state": {
            "_model_module": "@jupyter-widgets/base",
            "_model_module_version": "1.2.0",
            "_model_name": "LayoutModel",
            "_view_count": null,
            "_view_module": "@jupyter-widgets/base",
            "_view_module_version": "1.2.0",
            "_view_name": "LayoutView",
            "align_content": null,
            "align_items": null,
            "align_self": null,
            "border": null,
            "bottom": null,
            "display": null,
            "flex": null,
            "flex_flow": null,
            "grid_area": null,
            "grid_auto_columns": null,
            "grid_auto_flow": null,
            "grid_auto_rows": null,
            "grid_column": null,
            "grid_gap": null,
            "grid_row": null,
            "grid_template_areas": null,
            "grid_template_columns": null,
            "grid_template_rows": null,
            "height": null,
            "justify_content": null,
            "justify_items": null,
            "left": null,
            "margin": null,
            "max_height": null,
            "max_width": null,
            "min_height": null,
            "min_width": null,
            "object_fit": null,
            "object_position": null,
            "order": null,
            "overflow": null,
            "overflow_x": null,
            "overflow_y": null,
            "padding": null,
            "right": null,
            "top": null,
            "visibility": null,
            "width": null
          }
        },
        "33608ac4dc8541df9cdede816a5d320c": {
          "model_module": "@jupyter-widgets/controls",
          "model_name": "ProgressStyleModel",
          "model_module_version": "1.5.0",
          "state": {
            "_model_module": "@jupyter-widgets/controls",
            "_model_module_version": "1.5.0",
            "_model_name": "ProgressStyleModel",
            "_view_count": null,
            "_view_module": "@jupyter-widgets/base",
            "_view_module_version": "1.2.0",
            "_view_name": "StyleView",
            "bar_color": null,
            "description_width": ""
          }
        },
        "798688f2219f44bcb72c8e4c9bd92b23": {
          "model_module": "@jupyter-widgets/base",
          "model_name": "LayoutModel",
          "model_module_version": "1.2.0",
          "state": {
            "_model_module": "@jupyter-widgets/base",
            "_model_module_version": "1.2.0",
            "_model_name": "LayoutModel",
            "_view_count": null,
            "_view_module": "@jupyter-widgets/base",
            "_view_module_version": "1.2.0",
            "_view_name": "LayoutView",
            "align_content": null,
            "align_items": null,
            "align_self": null,
            "border": null,
            "bottom": null,
            "display": null,
            "flex": null,
            "flex_flow": null,
            "grid_area": null,
            "grid_auto_columns": null,
            "grid_auto_flow": null,
            "grid_auto_rows": null,
            "grid_column": null,
            "grid_gap": null,
            "grid_row": null,
            "grid_template_areas": null,
            "grid_template_columns": null,
            "grid_template_rows": null,
            "height": null,
            "justify_content": null,
            "justify_items": null,
            "left": null,
            "margin": null,
            "max_height": null,
            "max_width": null,
            "min_height": null,
            "min_width": null,
            "object_fit": null,
            "object_position": null,
            "order": null,
            "overflow": null,
            "overflow_x": null,
            "overflow_y": null,
            "padding": null,
            "right": null,
            "top": null,
            "visibility": null,
            "width": null
          }
        },
        "200ca4e9312c452c9eecd940c1cce837": {
          "model_module": "@jupyter-widgets/controls",
          "model_name": "DescriptionStyleModel",
          "model_module_version": "1.5.0",
          "state": {
            "_model_module": "@jupyter-widgets/controls",
            "_model_module_version": "1.5.0",
            "_model_name": "DescriptionStyleModel",
            "_view_count": null,
            "_view_module": "@jupyter-widgets/base",
            "_view_module_version": "1.2.0",
            "_view_name": "StyleView",
            "description_width": ""
          }
        },
        "f044085e55fb4109b600f12a4a462c15": {
          "model_module": "@jupyter-widgets/controls",
          "model_name": "HBoxModel",
          "model_module_version": "1.5.0",
          "state": {
            "_dom_classes": [],
            "_model_module": "@jupyter-widgets/controls",
            "_model_module_version": "1.5.0",
            "_model_name": "HBoxModel",
            "_view_count": null,
            "_view_module": "@jupyter-widgets/controls",
            "_view_module_version": "1.5.0",
            "_view_name": "HBoxView",
            "box_style": "",
            "children": [
              "IPY_MODEL_52d096dab79048f48f81880de4422023",
              "IPY_MODEL_502a6f955fe44d7085c8f8e2a2101ecd",
              "IPY_MODEL_5aef1c49067441ebbe7d59446de711ae"
            ],
            "layout": "IPY_MODEL_3377287c2a9b42c1ba4f4ae07ece8b69"
          }
        },
        "52d096dab79048f48f81880de4422023": {
          "model_module": "@jupyter-widgets/controls",
          "model_name": "HTMLModel",
          "model_module_version": "1.5.0",
          "state": {
            "_dom_classes": [],
            "_model_module": "@jupyter-widgets/controls",
            "_model_module_version": "1.5.0",
            "_model_name": "HTMLModel",
            "_view_count": null,
            "_view_module": "@jupyter-widgets/controls",
            "_view_module_version": "1.5.0",
            "_view_name": "HTMLView",
            "description": "",
            "description_tooltip": null,
            "layout": "IPY_MODEL_80cdb47bd05f4fb3822a988af4606d3c",
            "placeholder": "​",
            "style": "IPY_MODEL_b9b1f7f5e8104b908b27000db8eac395",
            "value": "vocab.txt: 100%"
          }
        },
        "502a6f955fe44d7085c8f8e2a2101ecd": {
          "model_module": "@jupyter-widgets/controls",
          "model_name": "FloatProgressModel",
          "model_module_version": "1.5.0",
          "state": {
            "_dom_classes": [],
            "_model_module": "@jupyter-widgets/controls",
            "_model_module_version": "1.5.0",
            "_model_name": "FloatProgressModel",
            "_view_count": null,
            "_view_module": "@jupyter-widgets/controls",
            "_view_module_version": "1.5.0",
            "_view_name": "ProgressView",
            "bar_style": "success",
            "description": "",
            "description_tooltip": null,
            "layout": "IPY_MODEL_8d7a96e248624d0b9343e3ce9e92e52f",
            "max": 231508,
            "min": 0,
            "orientation": "horizontal",
            "style": "IPY_MODEL_5df200aa63f746aa8511571a89b466c7",
            "value": 231508
          }
        },
        "5aef1c49067441ebbe7d59446de711ae": {
          "model_module": "@jupyter-widgets/controls",
          "model_name": "HTMLModel",
          "model_module_version": "1.5.0",
          "state": {
            "_dom_classes": [],
            "_model_module": "@jupyter-widgets/controls",
            "_model_module_version": "1.5.0",
            "_model_name": "HTMLModel",
            "_view_count": null,
            "_view_module": "@jupyter-widgets/controls",
            "_view_module_version": "1.5.0",
            "_view_name": "HTMLView",
            "description": "",
            "description_tooltip": null,
            "layout": "IPY_MODEL_fe5a721919de4ce5afd10cc6d72dc59e",
            "placeholder": "​",
            "style": "IPY_MODEL_ca0c8b51d59c49e8a8c7367c3b7bf9bd",
            "value": " 232k/232k [00:00&lt;00:00, 4.02MB/s]"
          }
        },
        "3377287c2a9b42c1ba4f4ae07ece8b69": {
          "model_module": "@jupyter-widgets/base",
          "model_name": "LayoutModel",
          "model_module_version": "1.2.0",
          "state": {
            "_model_module": "@jupyter-widgets/base",
            "_model_module_version": "1.2.0",
            "_model_name": "LayoutModel",
            "_view_count": null,
            "_view_module": "@jupyter-widgets/base",
            "_view_module_version": "1.2.0",
            "_view_name": "LayoutView",
            "align_content": null,
            "align_items": null,
            "align_self": null,
            "border": null,
            "bottom": null,
            "display": null,
            "flex": null,
            "flex_flow": null,
            "grid_area": null,
            "grid_auto_columns": null,
            "grid_auto_flow": null,
            "grid_auto_rows": null,
            "grid_column": null,
            "grid_gap": null,
            "grid_row": null,
            "grid_template_areas": null,
            "grid_template_columns": null,
            "grid_template_rows": null,
            "height": null,
            "justify_content": null,
            "justify_items": null,
            "left": null,
            "margin": null,
            "max_height": null,
            "max_width": null,
            "min_height": null,
            "min_width": null,
            "object_fit": null,
            "object_position": null,
            "order": null,
            "overflow": null,
            "overflow_x": null,
            "overflow_y": null,
            "padding": null,
            "right": null,
            "top": null,
            "visibility": null,
            "width": null
          }
        },
        "80cdb47bd05f4fb3822a988af4606d3c": {
          "model_module": "@jupyter-widgets/base",
          "model_name": "LayoutModel",
          "model_module_version": "1.2.0",
          "state": {
            "_model_module": "@jupyter-widgets/base",
            "_model_module_version": "1.2.0",
            "_model_name": "LayoutModel",
            "_view_count": null,
            "_view_module": "@jupyter-widgets/base",
            "_view_module_version": "1.2.0",
            "_view_name": "LayoutView",
            "align_content": null,
            "align_items": null,
            "align_self": null,
            "border": null,
            "bottom": null,
            "display": null,
            "flex": null,
            "flex_flow": null,
            "grid_area": null,
            "grid_auto_columns": null,
            "grid_auto_flow": null,
            "grid_auto_rows": null,
            "grid_column": null,
            "grid_gap": null,
            "grid_row": null,
            "grid_template_areas": null,
            "grid_template_columns": null,
            "grid_template_rows": null,
            "height": null,
            "justify_content": null,
            "justify_items": null,
            "left": null,
            "margin": null,
            "max_height": null,
            "max_width": null,
            "min_height": null,
            "min_width": null,
            "object_fit": null,
            "object_position": null,
            "order": null,
            "overflow": null,
            "overflow_x": null,
            "overflow_y": null,
            "padding": null,
            "right": null,
            "top": null,
            "visibility": null,
            "width": null
          }
        },
        "b9b1f7f5e8104b908b27000db8eac395": {
          "model_module": "@jupyter-widgets/controls",
          "model_name": "DescriptionStyleModel",
          "model_module_version": "1.5.0",
          "state": {
            "_model_module": "@jupyter-widgets/controls",
            "_model_module_version": "1.5.0",
            "_model_name": "DescriptionStyleModel",
            "_view_count": null,
            "_view_module": "@jupyter-widgets/base",
            "_view_module_version": "1.2.0",
            "_view_name": "StyleView",
            "description_width": ""
          }
        },
        "8d7a96e248624d0b9343e3ce9e92e52f": {
          "model_module": "@jupyter-widgets/base",
          "model_name": "LayoutModel",
          "model_module_version": "1.2.0",
          "state": {
            "_model_module": "@jupyter-widgets/base",
            "_model_module_version": "1.2.0",
            "_model_name": "LayoutModel",
            "_view_count": null,
            "_view_module": "@jupyter-widgets/base",
            "_view_module_version": "1.2.0",
            "_view_name": "LayoutView",
            "align_content": null,
            "align_items": null,
            "align_self": null,
            "border": null,
            "bottom": null,
            "display": null,
            "flex": null,
            "flex_flow": null,
            "grid_area": null,
            "grid_auto_columns": null,
            "grid_auto_flow": null,
            "grid_auto_rows": null,
            "grid_column": null,
            "grid_gap": null,
            "grid_row": null,
            "grid_template_areas": null,
            "grid_template_columns": null,
            "grid_template_rows": null,
            "height": null,
            "justify_content": null,
            "justify_items": null,
            "left": null,
            "margin": null,
            "max_height": null,
            "max_width": null,
            "min_height": null,
            "min_width": null,
            "object_fit": null,
            "object_position": null,
            "order": null,
            "overflow": null,
            "overflow_x": null,
            "overflow_y": null,
            "padding": null,
            "right": null,
            "top": null,
            "visibility": null,
            "width": null
          }
        },
        "5df200aa63f746aa8511571a89b466c7": {
          "model_module": "@jupyter-widgets/controls",
          "model_name": "ProgressStyleModel",
          "model_module_version": "1.5.0",
          "state": {
            "_model_module": "@jupyter-widgets/controls",
            "_model_module_version": "1.5.0",
            "_model_name": "ProgressStyleModel",
            "_view_count": null,
            "_view_module": "@jupyter-widgets/base",
            "_view_module_version": "1.2.0",
            "_view_name": "StyleView",
            "bar_color": null,
            "description_width": ""
          }
        },
        "fe5a721919de4ce5afd10cc6d72dc59e": {
          "model_module": "@jupyter-widgets/base",
          "model_name": "LayoutModel",
          "model_module_version": "1.2.0",
          "state": {
            "_model_module": "@jupyter-widgets/base",
            "_model_module_version": "1.2.0",
            "_model_name": "LayoutModel",
            "_view_count": null,
            "_view_module": "@jupyter-widgets/base",
            "_view_module_version": "1.2.0",
            "_view_name": "LayoutView",
            "align_content": null,
            "align_items": null,
            "align_self": null,
            "border": null,
            "bottom": null,
            "display": null,
            "flex": null,
            "flex_flow": null,
            "grid_area": null,
            "grid_auto_columns": null,
            "grid_auto_flow": null,
            "grid_auto_rows": null,
            "grid_column": null,
            "grid_gap": null,
            "grid_row": null,
            "grid_template_areas": null,
            "grid_template_columns": null,
            "grid_template_rows": null,
            "height": null,
            "justify_content": null,
            "justify_items": null,
            "left": null,
            "margin": null,
            "max_height": null,
            "max_width": null,
            "min_height": null,
            "min_width": null,
            "object_fit": null,
            "object_position": null,
            "order": null,
            "overflow": null,
            "overflow_x": null,
            "overflow_y": null,
            "padding": null,
            "right": null,
            "top": null,
            "visibility": null,
            "width": null
          }
        },
        "ca0c8b51d59c49e8a8c7367c3b7bf9bd": {
          "model_module": "@jupyter-widgets/controls",
          "model_name": "DescriptionStyleModel",
          "model_module_version": "1.5.0",
          "state": {
            "_model_module": "@jupyter-widgets/controls",
            "_model_module_version": "1.5.0",
            "_model_name": "DescriptionStyleModel",
            "_view_count": null,
            "_view_module": "@jupyter-widgets/base",
            "_view_module_version": "1.2.0",
            "_view_name": "StyleView",
            "description_width": ""
          }
        },
        "dcd3463c44784479a86f80ee8f5133e3": {
          "model_module": "@jupyter-widgets/controls",
          "model_name": "HBoxModel",
          "model_module_version": "1.5.0",
          "state": {
            "_dom_classes": [],
            "_model_module": "@jupyter-widgets/controls",
            "_model_module_version": "1.5.0",
            "_model_name": "HBoxModel",
            "_view_count": null,
            "_view_module": "@jupyter-widgets/controls",
            "_view_module_version": "1.5.0",
            "_view_name": "HBoxView",
            "box_style": "",
            "children": [
              "IPY_MODEL_d5d9a42a2a8449c39fec8c0de2f781fd",
              "IPY_MODEL_ee9b795c133e45d98653b4b4de5315b4",
              "IPY_MODEL_685e8e5b47304b66bcaac89c3bf88cca"
            ],
            "layout": "IPY_MODEL_e14e69ffd08346809f87943709640799"
          }
        },
        "d5d9a42a2a8449c39fec8c0de2f781fd": {
          "model_module": "@jupyter-widgets/controls",
          "model_name": "HTMLModel",
          "model_module_version": "1.5.0",
          "state": {
            "_dom_classes": [],
            "_model_module": "@jupyter-widgets/controls",
            "_model_module_version": "1.5.0",
            "_model_name": "HTMLModel",
            "_view_count": null,
            "_view_module": "@jupyter-widgets/controls",
            "_view_module_version": "1.5.0",
            "_view_name": "HTMLView",
            "description": "",
            "description_tooltip": null,
            "layout": "IPY_MODEL_11af475848fd4d6cb867553b1e4df9b9",
            "placeholder": "​",
            "style": "IPY_MODEL_32b8bf90be14408d8763d396b9d79a7b",
            "value": "tokenizer.json: 100%"
          }
        },
        "ee9b795c133e45d98653b4b4de5315b4": {
          "model_module": "@jupyter-widgets/controls",
          "model_name": "FloatProgressModel",
          "model_module_version": "1.5.0",
          "state": {
            "_dom_classes": [],
            "_model_module": "@jupyter-widgets/controls",
            "_model_module_version": "1.5.0",
            "_model_name": "FloatProgressModel",
            "_view_count": null,
            "_view_module": "@jupyter-widgets/controls",
            "_view_module_version": "1.5.0",
            "_view_name": "ProgressView",
            "bar_style": "success",
            "description": "",
            "description_tooltip": null,
            "layout": "IPY_MODEL_b10220c68e0144728713656570ebb602",
            "max": 466062,
            "min": 0,
            "orientation": "horizontal",
            "style": "IPY_MODEL_b316366594494a64bb9cfba2e67e70bc",
            "value": 466062
          }
        },
        "685e8e5b47304b66bcaac89c3bf88cca": {
          "model_module": "@jupyter-widgets/controls",
          "model_name": "HTMLModel",
          "model_module_version": "1.5.0",
          "state": {
            "_dom_classes": [],
            "_model_module": "@jupyter-widgets/controls",
            "_model_module_version": "1.5.0",
            "_model_name": "HTMLModel",
            "_view_count": null,
            "_view_module": "@jupyter-widgets/controls",
            "_view_module_version": "1.5.0",
            "_view_name": "HTMLView",
            "description": "",
            "description_tooltip": null,
            "layout": "IPY_MODEL_46ff928b24fa4829a5f7afeb9f2e9706",
            "placeholder": "​",
            "style": "IPY_MODEL_ae42061a501146a48db3c243af9ed41b",
            "value": " 466k/466k [00:00&lt;00:00, 3.23MB/s]"
          }
        },
        "e14e69ffd08346809f87943709640799": {
          "model_module": "@jupyter-widgets/base",
          "model_name": "LayoutModel",
          "model_module_version": "1.2.0",
          "state": {
            "_model_module": "@jupyter-widgets/base",
            "_model_module_version": "1.2.0",
            "_model_name": "LayoutModel",
            "_view_count": null,
            "_view_module": "@jupyter-widgets/base",
            "_view_module_version": "1.2.0",
            "_view_name": "LayoutView",
            "align_content": null,
            "align_items": null,
            "align_self": null,
            "border": null,
            "bottom": null,
            "display": null,
            "flex": null,
            "flex_flow": null,
            "grid_area": null,
            "grid_auto_columns": null,
            "grid_auto_flow": null,
            "grid_auto_rows": null,
            "grid_column": null,
            "grid_gap": null,
            "grid_row": null,
            "grid_template_areas": null,
            "grid_template_columns": null,
            "grid_template_rows": null,
            "height": null,
            "justify_content": null,
            "justify_items": null,
            "left": null,
            "margin": null,
            "max_height": null,
            "max_width": null,
            "min_height": null,
            "min_width": null,
            "object_fit": null,
            "object_position": null,
            "order": null,
            "overflow": null,
            "overflow_x": null,
            "overflow_y": null,
            "padding": null,
            "right": null,
            "top": null,
            "visibility": null,
            "width": null
          }
        },
        "11af475848fd4d6cb867553b1e4df9b9": {
          "model_module": "@jupyter-widgets/base",
          "model_name": "LayoutModel",
          "model_module_version": "1.2.0",
          "state": {
            "_model_module": "@jupyter-widgets/base",
            "_model_module_version": "1.2.0",
            "_model_name": "LayoutModel",
            "_view_count": null,
            "_view_module": "@jupyter-widgets/base",
            "_view_module_version": "1.2.0",
            "_view_name": "LayoutView",
            "align_content": null,
            "align_items": null,
            "align_self": null,
            "border": null,
            "bottom": null,
            "display": null,
            "flex": null,
            "flex_flow": null,
            "grid_area": null,
            "grid_auto_columns": null,
            "grid_auto_flow": null,
            "grid_auto_rows": null,
            "grid_column": null,
            "grid_gap": null,
            "grid_row": null,
            "grid_template_areas": null,
            "grid_template_columns": null,
            "grid_template_rows": null,
            "height": null,
            "justify_content": null,
            "justify_items": null,
            "left": null,
            "margin": null,
            "max_height": null,
            "max_width": null,
            "min_height": null,
            "min_width": null,
            "object_fit": null,
            "object_position": null,
            "order": null,
            "overflow": null,
            "overflow_x": null,
            "overflow_y": null,
            "padding": null,
            "right": null,
            "top": null,
            "visibility": null,
            "width": null
          }
        },
        "32b8bf90be14408d8763d396b9d79a7b": {
          "model_module": "@jupyter-widgets/controls",
          "model_name": "DescriptionStyleModel",
          "model_module_version": "1.5.0",
          "state": {
            "_model_module": "@jupyter-widgets/controls",
            "_model_module_version": "1.5.0",
            "_model_name": "DescriptionStyleModel",
            "_view_count": null,
            "_view_module": "@jupyter-widgets/base",
            "_view_module_version": "1.2.0",
            "_view_name": "StyleView",
            "description_width": ""
          }
        },
        "b10220c68e0144728713656570ebb602": {
          "model_module": "@jupyter-widgets/base",
          "model_name": "LayoutModel",
          "model_module_version": "1.2.0",
          "state": {
            "_model_module": "@jupyter-widgets/base",
            "_model_module_version": "1.2.0",
            "_model_name": "LayoutModel",
            "_view_count": null,
            "_view_module": "@jupyter-widgets/base",
            "_view_module_version": "1.2.0",
            "_view_name": "LayoutView",
            "align_content": null,
            "align_items": null,
            "align_self": null,
            "border": null,
            "bottom": null,
            "display": null,
            "flex": null,
            "flex_flow": null,
            "grid_area": null,
            "grid_auto_columns": null,
            "grid_auto_flow": null,
            "grid_auto_rows": null,
            "grid_column": null,
            "grid_gap": null,
            "grid_row": null,
            "grid_template_areas": null,
            "grid_template_columns": null,
            "grid_template_rows": null,
            "height": null,
            "justify_content": null,
            "justify_items": null,
            "left": null,
            "margin": null,
            "max_height": null,
            "max_width": null,
            "min_height": null,
            "min_width": null,
            "object_fit": null,
            "object_position": null,
            "order": null,
            "overflow": null,
            "overflow_x": null,
            "overflow_y": null,
            "padding": null,
            "right": null,
            "top": null,
            "visibility": null,
            "width": null
          }
        },
        "b316366594494a64bb9cfba2e67e70bc": {
          "model_module": "@jupyter-widgets/controls",
          "model_name": "ProgressStyleModel",
          "model_module_version": "1.5.0",
          "state": {
            "_model_module": "@jupyter-widgets/controls",
            "_model_module_version": "1.5.0",
            "_model_name": "ProgressStyleModel",
            "_view_count": null,
            "_view_module": "@jupyter-widgets/base",
            "_view_module_version": "1.2.0",
            "_view_name": "StyleView",
            "bar_color": null,
            "description_width": ""
          }
        },
        "46ff928b24fa4829a5f7afeb9f2e9706": {
          "model_module": "@jupyter-widgets/base",
          "model_name": "LayoutModel",
          "model_module_version": "1.2.0",
          "state": {
            "_model_module": "@jupyter-widgets/base",
            "_model_module_version": "1.2.0",
            "_model_name": "LayoutModel",
            "_view_count": null,
            "_view_module": "@jupyter-widgets/base",
            "_view_module_version": "1.2.0",
            "_view_name": "LayoutView",
            "align_content": null,
            "align_items": null,
            "align_self": null,
            "border": null,
            "bottom": null,
            "display": null,
            "flex": null,
            "flex_flow": null,
            "grid_area": null,
            "grid_auto_columns": null,
            "grid_auto_flow": null,
            "grid_auto_rows": null,
            "grid_column": null,
            "grid_gap": null,
            "grid_row": null,
            "grid_template_areas": null,
            "grid_template_columns": null,
            "grid_template_rows": null,
            "height": null,
            "justify_content": null,
            "justify_items": null,
            "left": null,
            "margin": null,
            "max_height": null,
            "max_width": null,
            "min_height": null,
            "min_width": null,
            "object_fit": null,
            "object_position": null,
            "order": null,
            "overflow": null,
            "overflow_x": null,
            "overflow_y": null,
            "padding": null,
            "right": null,
            "top": null,
            "visibility": null,
            "width": null
          }
        },
        "ae42061a501146a48db3c243af9ed41b": {
          "model_module": "@jupyter-widgets/controls",
          "model_name": "DescriptionStyleModel",
          "model_module_version": "1.5.0",
          "state": {
            "_model_module": "@jupyter-widgets/controls",
            "_model_module_version": "1.5.0",
            "_model_name": "DescriptionStyleModel",
            "_view_count": null,
            "_view_module": "@jupyter-widgets/base",
            "_view_module_version": "1.2.0",
            "_view_name": "StyleView",
            "description_width": ""
          }
        }
      }
    },
    "colab": {
      "provenance": [],
      "gpuType": "T4",
      "include_colab_link": true
    },
    "accelerator": "GPU"
  },
  "nbformat": 4,
  "nbformat_minor": 5
}